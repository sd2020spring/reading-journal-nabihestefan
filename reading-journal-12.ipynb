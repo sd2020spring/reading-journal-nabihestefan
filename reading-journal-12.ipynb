{
 "cells": [
  {
   "cell_type": "markdown",
   "metadata": {},
   "source": [
    "# Day 12 Reading Journal\n",
    "\n",
    "Reading: \n",
    " - _Think Python_ [Chapter 14.5-14.11](http://www.greenteapress.com/thinkpython2/html/thinkpython2015.html)"
   ]
  },
  {
   "cell_type": "markdown",
   "metadata": {},
   "source": [
    "## [Chapter 14.5-14.11](http://www.greenteapress.com/thinkpython2/html/thinkpython2015.html)\n",
    "\n",
    "\n",
    "Section 14.5 discusses catching [Exceptions](https://docs.python.org/3/tutorial/errors.html) in code using the `try ... except` pattern. This is great because most of the time you just write the same code you always would (the `try` part), but you can gracefully deal with errors instead of crashing your program (the `except` part).\n",
    "\n",
    "The part that's not so great about the example code is the fact that the naked `except` block catches *every* type of Exception indiscriminately. As an (contrived) example, imagine your program did `reciprocal = 1/value`. You will get different errors and the fix may be different if `value` is 0 versus if it is `\"pasta\"` (try it).\n"
   ]
  },
  {
   "cell_type": "code",
   "execution_count": 1,
   "metadata": {},
   "outputs": [
    {
     "ename": "ZeroDivisionError",
     "evalue": "division by zero",
     "output_type": "error",
     "traceback": [
      "\u001b[0;31m---------------------------------------------------------------------------\u001b[0m",
      "\u001b[0;31mZeroDivisionError\u001b[0m                         Traceback (most recent call last)",
      "\u001b[0;32m<ipython-input-1-2b80cf3cb0a8>\u001b[0m in \u001b[0;36m<module>\u001b[0;34m\u001b[0m\n\u001b[1;32m      1\u001b[0m \u001b[0mvalue\u001b[0m \u001b[0;34m=\u001b[0m \u001b[0;36m0\u001b[0m\u001b[0;34m\u001b[0m\u001b[0;34m\u001b[0m\u001b[0m\n\u001b[0;32m----> 2\u001b[0;31m \u001b[0mreciprocal\u001b[0m \u001b[0;34m=\u001b[0m \u001b[0;36m1\u001b[0m\u001b[0;34m/\u001b[0m\u001b[0mvalue\u001b[0m\u001b[0;34m\u001b[0m\u001b[0;34m\u001b[0m\u001b[0m\n\u001b[0m",
      "\u001b[0;31mZeroDivisionError\u001b[0m: division by zero"
     ]
    }
   ],
   "source": [
    "value = 0\n",
    "reciprocal = 1/value"
   ]
  },
  {
   "cell_type": "code",
   "execution_count": 2,
   "metadata": {},
   "outputs": [
    {
     "ename": "TypeError",
     "evalue": "unsupported operand type(s) for /: 'int' and 'str'",
     "output_type": "error",
     "traceback": [
      "\u001b[0;31m---------------------------------------------------------------------------\u001b[0m",
      "\u001b[0;31mTypeError\u001b[0m                                 Traceback (most recent call last)",
      "\u001b[0;32m<ipython-input-2-1e110706308e>\u001b[0m in \u001b[0;36m<module>\u001b[0;34m\u001b[0m\n\u001b[1;32m      1\u001b[0m \u001b[0mvalue\u001b[0m \u001b[0;34m=\u001b[0m \u001b[0;34m\"pasta\"\u001b[0m\u001b[0;34m\u001b[0m\u001b[0;34m\u001b[0m\u001b[0m\n\u001b[0;32m----> 2\u001b[0;31m \u001b[0mreciprocal\u001b[0m \u001b[0;34m=\u001b[0m \u001b[0;36m1\u001b[0m\u001b[0;34m/\u001b[0m\u001b[0mvalue\u001b[0m\u001b[0;34m\u001b[0m\u001b[0;34m\u001b[0m\u001b[0m\n\u001b[0m",
      "\u001b[0;31mTypeError\u001b[0m: unsupported operand type(s) for /: 'int' and 'str'"
     ]
    }
   ],
   "source": [
    "value = \"pasta\"\n",
    "reciprocal = 1/value"
   ]
  },
  {
   "cell_type": "markdown",
   "metadata": {},
   "source": [
    "Fortunately, there is an extended version of the `try ... except` syntax that will allow us full control of the situation:"
   ]
  },
  {
   "cell_type": "code",
   "execution_count": 11,
   "metadata": {},
   "outputs": [
    {
     "name": "stdout",
     "output_type": "stream",
     "text": [
      "Reciprocal is: 0.2\n"
     ]
    }
   ],
   "source": [
    "value = 5 # Test some other cases\n",
    "try:\n",
    "    reciprocal = 1/value\n",
    "    print(\"Reciprocal is:\", reciprocal)\n",
    "except ZeroDivisionError:\n",
    "    print(\"Cannot divide by 0\")\n",
    "except TypeError:\n",
    "    print(\"'value' must be a number, try again\")\n",
    "\n"
   ]
  },
  {
   "cell_type": "markdown",
   "metadata": {},
   "source": [
    "As a general principle, you should only catch Exceptions that your `except` block is prepared to deal with, and let other Exceptions through. They may be caught elsewhere in the program, or they cause your program to stop, providing useful information when they do. If you catch every Exception, you may unintentionally mask unexpected errors that are happening and lose that helpful Traceback information.\n",
    "\n",
    "\n",
    "### Exercise\n",
    "\n",
    " - Choose a short section of your MP3 code that does something that might raise an Exception. For example, you might choose the lines that read or download a file. Paste that code in the `try` block below.\n",
    " - Figure out what type of Exception your code causes when something goes wrong. For example, try reading a file that doesn't exist. Paste this exception type in place of `YourSpecificException` below.\n",
    " - Write some code to handle the exception, even if it's just printing an error and exiting the program. Paste it in the `except` block below.\n",
    " \n",
    "Note: You do **not** need to implement Exception handling in your actual MP3 submission. You are of course welcome to do so, but we are not requiring this potentially extensive/invasive change this late in the mini-project."
   ]
  },
  {
   "cell_type": "code",
   "execution_count": null,
   "metadata": {},
   "outputs": [],
   "source": [
    "# Snippet of MP3 code that handles exceptions\n",
    "try:\n",
    "    text.span.span\n",
    "except AttributeError:\n",
    "    # Replace \"YourSpecificException\" above with the actual type, \n",
    "    # and put some code here to handle it (even if it's just printing an error and exiting)\n",
    "    text = text.next_sibling"
   ]
  },
  {
   "cell_type": "markdown",
   "metadata": {
    "is_question": true,
    "problem": "Exercise 15.1"
   },
   "source": [
    "### Exercise\n",
    "\n",
    "This chapter includes several options for persistent storage of data across multiple runs of a program:\n",
    " - Saving to files\n",
    " - Chapter 14.6 Databases\n",
    " - Chapter 14.7 Pickling\n",
    " \n",
    "Try out at least one of these options to save your data from MP3. You can paste your experiment in the cell(s) below."
   ]
  },
  {
   "cell_type": "code",
   "execution_count": null,
   "metadata": {
    "solution": "Exercise 15.1"
   },
   "outputs": [],
   "source": [
    "    filename = \"Philosophy_Chain_\" + link +\".txt\"\n",
    "    file = open(filename, \"w+\")\n",
    "    file.write(\"Starting at \" + link + \", these are the steps to reach the Wikipedia Philosophy Webpage\\n\")\n",
    "    \n",
    "    #IN the recursive call\n",
    "    file.write(link)\n",
    "    \n",
    "    #back outside recursive call\n",
    "    file.write(\"\\n These were the %2d steps to reach the Wikipedia Philosophy Webpage from \" + link %result[1])\n",
    "    file.close()"
   ]
  }
 ],
 "metadata": {
  "kernelspec": {
   "display_name": "Python 3",
   "language": "python",
   "name": "python3"
  },
  "language_info": {
   "codemirror_mode": {
    "name": "ipython",
    "version": 3
   },
   "file_extension": ".py",
   "mimetype": "text/x-python",
   "name": "python",
   "nbconvert_exporter": "python",
   "pygments_lexer": "ipython3",
   "version": "3.7.4"
  }
 },
 "nbformat": 4,
 "nbformat_minor": 1
}
