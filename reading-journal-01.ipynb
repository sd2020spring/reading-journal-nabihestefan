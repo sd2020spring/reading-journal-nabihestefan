{
 "cells": [
  {
   "cell_type": "markdown",
   "metadata": {},
   "source": [
    "# Day 1 Reading Journal\n",
    "\n",
    "These are the exercises for the first set of readings from [_Think Python_](http://greenteapress.com/wp/think-python-2e/).  While this journal consists of several required exercises, it is meant to encourage active reading more generally.  You should use this journal to take detailed notes, catalog questions, and explore the content from Think Python deeply.\n",
    "\n",
    "For more information on using the Jupyter notebook, check out the documentation [here](https://www.datacamp.com/community/tutorials/tutorial-jupyter-notebook##UseJupyter).\n",
    "\n",
    "Additionally, in order to write text in this document, you will be making use of Markdown cells. A handy cheatsheet for Markdown is available [here](https://github.com/adam-p/markdown-here/wiki/Markdown-Cheatsheet).\n",
    "\n",
    "Reading: _Think Python_ chapters 1-3. _Think Python_ [chapter 5](http://greenteapress.com/thinkpython2/html/thinkpython2006.html), sections 5.2-5.7.\n",
    "\n",
    "**Before you begin**: Please log the amount of time you spend on the readings and on this reading journal. One of this last questions in this notebook asks for this."
   ]
  },
  {
   "cell_type": "markdown",
   "metadata": {},
   "source": [
    "# Course Policies\n",
    "What is the maximum amount of time you should spend on a reading journal before asking for help?"
   ]
  },
  {
   "cell_type": "markdown",
   "metadata": {},
   "source": [
    "    90 minutes"
   ]
  },
  {
   "cell_type": "markdown",
   "metadata": {},
   "source": [
    "Can you get credit for a late reading journal?"
   ]
  },
  {
   "cell_type": "markdown",
   "metadata": {},
   "source": [
    "    Reading Journals must be pushed before 9am on the day of the class to be recieved for credit."
   ]
  },
  {
   "cell_type": "markdown",
   "metadata": {},
   "source": [
    "How many reading journals can you turn in late without penalty?"
   ]
  },
  {
   "cell_type": "markdown",
   "metadata": {},
   "source": [
    "    You are allowed one 'free-pass' of late submission of Reading Journals. "
   ]
  },
  {
   "cell_type": "markdown",
   "metadata": {},
   "source": [
    "Is it okay to use external sources? If so, what do you need to do in order to do this?"
   ]
  },
  {
   "cell_type": "markdown",
   "metadata": {},
   "source": [
    "    It is okay ot use external sources, but it depends on the assignment and the legnth of the code being used to determine if it should or should not be used. If it is used, it needs to be properly attributed, if not, it is a violation of the Honor Code."
   ]
  },
  {
   "cell_type": "markdown",
   "metadata": {},
   "source": [
    "## Chapter 1\n",
    "Note: the exercise numbers below match up with the reading for ease of cross referencing."
   ]
  },
  {
   "cell_type": "markdown",
   "metadata": {},
   "source": [
    "### Exercise 1.2\n",
    "\n",
    "Use a Jupyter notebook as a simple calculator. Enter into each of the following cells a Python expression that calculates the answer to each of the following questions.\n",
    "\n",
    "* [Example] How many seconds are there in 42 minutes?"
   ]
  },
  {
   "cell_type": "code",
   "execution_count": 1,
   "metadata": {},
   "outputs": [
    {
     "data": {
      "text/plain": [
       "3120000"
      ]
     },
     "execution_count": 1,
     "metadata": {},
     "output_type": "execute_result"
    }
   ],
   "source": [
    "52 * 60 *1000"
   ]
  },
  {
   "cell_type": "markdown",
   "metadata": {},
   "source": [
    "* How many seconds are there in 42 minutes 42 seconds?"
   ]
  },
  {
   "cell_type": "code",
   "execution_count": 2,
   "metadata": {},
   "outputs": [
    {
     "data": {
      "text/plain": [
       "2562"
      ]
     },
     "execution_count": 2,
     "metadata": {},
     "output_type": "execute_result"
    }
   ],
   "source": [
    "42*60 + 42"
   ]
  },
  {
   "cell_type": "markdown",
   "metadata": {},
   "source": [
    "* How many miles are there in 10 kilometers? Hint: there are 1.61 kilometers in a mile."
   ]
  },
  {
   "cell_type": "code",
   "execution_count": 3,
   "metadata": {},
   "outputs": [
    {
     "data": {
      "text/plain": [
       "16.1"
      ]
     },
     "execution_count": 3,
     "metadata": {},
     "output_type": "execute_result"
    }
   ],
   "source": [
    "10 * 1.61"
   ]
  },
  {
   "cell_type": "markdown",
   "metadata": {},
   "source": [
    "* If you run a 10 kilometer race in 42 minutes 42 seconds, what is your average pace (time per mile in minutes and seconds)? What is your average speed in miles per hour?"
   ]
  },
  {
   "cell_type": "code",
   "execution_count": 4,
   "metadata": {},
   "outputs": [
    {
     "name": "stdout",
     "output_type": "stream",
     "text": [
      "time per mile in minutes:  2.652173913043478\n",
      "\n",
      "speed in miles per hour:  22.622950819672134\n"
     ]
    }
   ],
   "source": [
    "distance = 10 * 1.61\n",
    "totaltime = 42*60 + 42\n",
    "seconds = totaltime / distance\n",
    "minutes = seconds / 60\n",
    "print('time per mile in minutes: ', minutes)\n",
    "\n",
    "c = 60 / minutes\n",
    "\n",
    "\n",
    "print('\\nspeed in miles per hour: ', c)\n"
   ]
  },
  {
   "cell_type": "markdown",
   "metadata": {},
   "source": [
    "## Chapter 2\n",
    "\n",
    "### Question 1\n",
    "\n",
    "_Think Python_ defines *interactive mode* and *script mode*. Is the Python code that runs in a Jupyter notebook, using interactive mode or script mode? Enter your answer in the cell below."
   ]
  },
  {
   "cell_type": "markdown",
   "metadata": {},
   "source": [
    "The Jupyter notebook is in Interactive mode, this is because we dont have to save to a script to run, we cna run straight from the interpreter."
   ]
  },
  {
   "cell_type": "markdown",
   "metadata": {},
   "source": [
    "### Exercise 1\n",
    "\n",
    "Is each of the following Python statements a *syntax error*, a *runtime error*, a *semantic error*, or *correct*?\n",
    "\n",
    "For each question, use the first (code) cell to run the program. Enter your answer into the second (Markdown) cell."
   ]
  },
  {
   "cell_type": "code",
   "execution_count": 5,
   "metadata": {
    "scrolled": true
   },
   "outputs": [
    {
     "ename": "SyntaxError",
     "evalue": "can't assign to literal (<ipython-input-5-f0c37ed646fc>, line 1)",
     "output_type": "error",
     "traceback": [
      "\u001b[0;36m  File \u001b[0;32m\"<ipython-input-5-f0c37ed646fc>\"\u001b[0;36m, line \u001b[0;32m1\u001b[0m\n\u001b[0;31m    42 = n\u001b[0m\n\u001b[0m          ^\u001b[0m\n\u001b[0;31mSyntaxError\u001b[0m\u001b[0;31m:\u001b[0m can't assign to literal\n"
     ]
    }
   ],
   "source": [
    "42 = n"
   ]
  },
  {
   "cell_type": "markdown",
   "metadata": {
    "collapsed": true
   },
   "source": [
    "    Syntax error. it needs to be written n = 42."
   ]
  },
  {
   "cell_type": "markdown",
   "metadata": {},
   "source": [
    "* Set `x` and `y` each to the value `1`:"
   ]
  },
  {
   "cell_type": "code",
   "execution_count": null,
   "metadata": {},
   "outputs": [],
   "source": [
    "x = y = 1"
   ]
  },
  {
   "cell_type": "raw",
   "metadata": {},
   "source": [
    "    This is correct."
   ]
  },
  {
   "cell_type": "markdown",
   "metadata": {},
   "source": [
    "* Set `x` and `y` each to the value `2`:"
   ]
  },
  {
   "cell_type": "code",
   "execution_count": 6,
   "metadata": {},
   "outputs": [],
   "source": [
    "x = y = 1"
   ]
  },
  {
   "cell_type": "markdown",
   "metadata": {},
   "source": [
    "    Semantic error. The code runs, but instead of giving x and y the value of 2, ti gives them the value of 1."
   ]
  },
  {
   "cell_type": "markdown",
   "metadata": {},
   "source": [
    "* Multiply `x` and `y`:"
   ]
  },
  {
   "cell_type": "code",
   "execution_count": 7,
   "metadata": {},
   "outputs": [
    {
     "ename": "SyntaxError",
     "evalue": "invalid syntax (<ipython-input-7-469c70ac347d>, line 1)",
     "output_type": "error",
     "traceback": [
      "\u001b[0;36m  File \u001b[0;32m\"<ipython-input-7-469c70ac347d>\"\u001b[0;36m, line \u001b[0;32m1\u001b[0m\n\u001b[0;31m    x y\u001b[0m\n\u001b[0m      ^\u001b[0m\n\u001b[0;31mSyntaxError\u001b[0m\u001b[0;31m:\u001b[0m invalid syntax\n"
     ]
    }
   ],
   "source": [
    "x y"
   ]
  },
  {
   "cell_type": "markdown",
   "metadata": {},
   "source": [
    "    Syntax error. You need to use * to do multiplication, they cant be just written next to each other."
   ]
  },
  {
   "cell_type": "markdown",
   "metadata": {},
   "source": [
    "### Exercise 2.2\n",
    "\n",
    "Practice using the Python interpreter as a calculator.  For each of these provide Python code that computes each answer."
   ]
  },
  {
   "cell_type": "markdown",
   "metadata": {},
   "source": [
    "The volume of a sphere with radius r is $4/3 \\pi  r^3$. What is the volume of a sphere with radius 5?\n",
    "\n",
    "You can approximate pi with 3.14 or import it through the [Python math library](https://docs.python.org/3/library/math.html#constants). (`import` is covered in [Chapter 3.2](http://greenteapress.com/thinkpython2/html/thinkpython2004.html#sec28).)"
   ]
  },
  {
   "cell_type": "code",
   "execution_count": null,
   "metadata": {
    "scrolled": true
   },
   "outputs": [],
   "source": [
    "import math\n",
    "\n",
    "V = (4/3)*math.pi*(5 ** 3)\n",
    "\n",
    "print('The Volume of the sphere with radius 5 is: ', V)"
   ]
  },
  {
   "cell_type": "markdown",
   "metadata": {},
   "source": [
    "Suppose the cover price of a book is \\\\$24.95, but bookstores get a 40% discount. Shipping costs \\\\$3 for the first copy and 75 cents for each additional copy. What is the total wholesale cost for 60 copies?"
   ]
  },
  {
   "cell_type": "code",
   "execution_count": null,
   "metadata": {},
   "outputs": [],
   "source": [
    "b = 60\n",
    "cost = 24.95 * 0.6\n",
    "c = (cost * b) + 3 + 0.75 * (b-1)\n",
    "print('The cost of buying and shipping 60 copies is: ', c)"
   ]
  },
  {
   "cell_type": "markdown",
   "metadata": {},
   "source": [
    "If I leave my house at 6:52 am and run 1 mile at an easy pace (8:15 per mile), then 3 miles at tempo (7:12 per mile) and 1 mile at easy pace again, what time do I get home for breakfast? "
   ]
  },
  {
   "cell_type": "code",
   "execution_count": null,
   "metadata": {},
   "outputs": [],
   "source": [
    "e = 8 * 60 + 15\n",
    "t = 7 * 60 + 12\n",
    "st = 6 * 60 * 60 + 52 * 60 \n",
    "ft = st + e * 1 + t * 3 + e * 1 #This is all in seconds\n",
    "h = ft // 60 // 60\n",
    "ft -= h*60*60\n",
    "m = ft//60\n",
    "ft -= m*60\n",
    "print('You will be back by',h,':',m,':',ft)"
   ]
  },
  {
   "cell_type": "markdown",
   "metadata": {},
   "source": [
    "## Chapter 3"
   ]
  },
  {
   "cell_type": "markdown",
   "metadata": {},
   "source": [
    "### Exercise 3.1\n",
    "\n",
    "Write a function named `right_justify` that takes a string named s as a parameter and prints the string with enough leading spaces so that the last letter of the string is in column 70 of the display.\n",
    "\n",
    "```\n",
    ">>> right_justify('monty')\n",
    "                                                                 monty\n",
    "```\n",
    "Hint: Use string concatenation and repetition. Also, Python provides a built-in function called `len` that returns the length of a string, so the value of `len('monty')` is 5."
   ]
  },
  {
   "cell_type": "code",
   "execution_count": null,
   "metadata": {},
   "outputs": [],
   "source": [
    "def right_justify(monty):\n",
    "    l = len(monty)\n",
    "    for i in range(70-l):\n",
    "        print(\" \", end = '')\n",
    "        \n",
    "    print(monty)\n",
    "    \n",
    "right_justify('monty')\n",
    "right_justify('reading')\n",
    "right_justify('philosophy')"
   ]
  },
  {
   "cell_type": "markdown",
   "metadata": {},
   "source": [
    "### Exercise 3.3\n",
    "\n",
    "Note: This exercise should be done using only the statements and other features we have learned so far.\n",
    "\n",
    "1\\. Write a function that draws a grid like the following:\n",
    "\n",
    "```\n",
    "+ - - - - + - - - - +\n",
    "|         |         |\n",
    "|         |         |\n",
    "|         |         |\n",
    "|         |         |\n",
    "+ - - - - + - - - - +\n",
    "|         |         |\n",
    "|         |         |\n",
    "|         |         |\n",
    "|         |         |\n",
    "+ - - - - + - - - - +\n",
    "```\n",
    "Note: There are four empty spaces between the vertical bars.\n",
    "\n",
    "To print more than one value on a line, you can print a comma-separated sequence of values:\n",
    "\n",
    "```\n",
    "print('+', '-')\n",
    "```\n",
    "\n",
    "By default, `print` advances to the next line, but you can override that behavior and put a space at the end, like this:\n",
    "\n",
    "```\n",
    "print('+', end=' ')\n",
    "print('-')\n",
    "```\n",
    "\n",
    "The output of these statements is '+ -'.  The output from the next print statement would begin on the next line."
   ]
  },
  {
   "cell_type": "code",
   "execution_count": 2,
   "metadata": {},
   "outputs": [
    {
     "name": "stdout",
     "output_type": "stream",
     "text": [
      "+ - - - -+ - - - - +\n",
      "|        |         |\n",
      "|        |         |\n",
      "|        |         |\n",
      "|        |         |\n",
      "+ - - - -+ - - - - +\n",
      "|        |         |\n",
      "|        |         |\n",
      "|        |         |\n",
      "|        |         |\n",
      "+ - - - -+ - - - - +\n"
     ]
    }
   ],
   "source": [
    "def row():\n",
    "    print('+ - - - -' * 2, '+')\n",
    "def col():\n",
    "    print('|        ' * 2, '|')\n",
    "def box():\n",
    "    row() \n",
    "    col() \n",
    "    col() \n",
    "    col() \n",
    "    col()\n",
    "    \n",
    "box()\n",
    "box()\n",
    "row()"
   ]
  },
  {
   "cell_type": "markdown",
   "metadata": {},
   "source": [
    "2\\. Write a function that draws a similar grid with four rows and four columns."
   ]
  },
  {
   "cell_type": "code",
   "execution_count": 5,
   "metadata": {},
   "outputs": [
    {
     "name": "stdout",
     "output_type": "stream",
     "text": [
      "+ - - - -+ - - - -+ - - - -+ - - - - +\n",
      "|        |        |        |         |\n",
      "|        |        |        |         |\n",
      "|        |        |        |         |\n",
      "|        |        |        |         |\n",
      "+ - - - -+ - - - -+ - - - -+ - - - - +\n",
      "|        |        |        |         |\n",
      "|        |        |        |         |\n",
      "|        |        |        |         |\n",
      "|        |        |        |         |\n",
      "+ - - - -+ - - - -+ - - - -+ - - - - +\n",
      "|        |        |        |         |\n",
      "|        |        |        |         |\n",
      "|        |        |        |         |\n",
      "|        |        |        |         |\n",
      "+ - - - -+ - - - -+ - - - -+ - - - - +\n",
      "|        |        |        |         |\n",
      "|        |        |        |         |\n",
      "|        |        |        |         |\n",
      "|        |        |        |         |\n",
      "+ - - - -+ - - - -+ - - - -+ - - - - +\n"
     ]
    }
   ],
   "source": [
    "def row():\n",
    "    print('+ - - - -' * 4, '+')\n",
    "def col():\n",
    "    print('|        ' * 4, '|')\n",
    "    \n",
    "def box():\n",
    "    row() \n",
    "    col()\n",
    "    col() \n",
    "    col() \n",
    "    col()\n",
    "    \n",
    "box()\n",
    "box()\n",
    "box()\n",
    "box()\n",
    "row()"
   ]
  },
  {
   "cell_type": "markdown",
   "metadata": {},
   "source": [
    "## Going Beyond - Chapter 5.1 - 5.7"
   ]
  },
  {
   "cell_type": "markdown",
   "metadata": {},
   "source": [
    "### Exercise 5.2\n",
    "\n",
    "Fermat’s Last Theorem says that there are no positive integers $a$, $b$, and $c$ such that $$a^n + b^n = c^n$$ for any values of $n$ greater than 2.\n",
    "\n",
    "1\\. Write a function named `check_fermat` that takes four parameters – $a$, $b$, $c$ and $n$ – and that checks to see if Fermat’s theorem holds. If n is greater than 2 and\n",
    "$$a^n + b^n = c^n$$ the program should print: \"Holy smokes, Fermat was wrong!\" Otherwise the program should print: \"No, that doesn’t work.\""
   ]
  },
  {
   "cell_type": "code",
   "execution_count": 8,
   "metadata": {},
   "outputs": [
    {
     "name": "stdout",
     "output_type": "stream",
     "text": [
      "No, that doesn't work\n",
      "No, that doesn't work\n"
     ]
    }
   ],
   "source": [
    "def check_fermat(a,b,c,n):\n",
    "    right = a ** n + b ** n\n",
    "    left = c ** n\n",
    "    if(right == left and n > 2):\n",
    "        print(\"Holy smokes, Fermat was wrong!\" )\n",
    "    else:\n",
    "        print(\"No, that doesn't work\")\n",
    "        \n",
    "check_fermat(1,2,3,3)\n",
    "check_fermat(3,4,5,2)"
   ]
  },
  {
   "cell_type": "markdown",
   "metadata": {},
   "source": [
    "2\\. Write a function that prompts the user to input values for a, b, c and n, converts them to integers, and uses `check_fermat` to check whether they violate Fermat’s theorem."
   ]
  },
  {
   "cell_type": "code",
   "execution_count": 9,
   "metadata": {},
   "outputs": [
    {
     "name": "stdout",
     "output_type": "stream",
     "text": [
      "Please enter four numbers a, b, c, and n\n",
      "1\n",
      "2\n",
      "3\n",
      "4\n",
      "No, that doesn't work\n"
     ]
    }
   ],
   "source": [
    "def numbers():\n",
    "    print(\"Please enter four numbers a, b, c, and n\")\n",
    "    a = int(input())\n",
    "    b = int(input())\n",
    "    c = int(input())\n",
    "    n = int(input())\n",
    "    check_fermat(a,b,c,n)\n",
    "    \n",
    "numbers()"
   ]
  },
  {
   "cell_type": "markdown",
   "metadata": {},
   "source": [
    "### Exercise 5.3 \n",
    "\n",
    "If you are given three sticks, you may or may not be able to arrange them in a triangle. For example, if one of the sticks is 12 inches long and the other two are one inch long, it is clear that you will not be able to get the short sticks to meet in the middle. For any three lengths, there is a simple test to see if it is possible to form a triangle:\n",
    "> If any of the three lengths is greater than the sum of the other two, then you cannot form a triangle. Otherwise, you can. (If the sum of two lengths equals the third, they form what is called a “degenerate” triangle.)\n",
    "\n",
    "1\\. Write a function named `is_triangle` that takes three integers as arguments, and that prints either \"Yes\" or \"No,\" depending on whether you can or cannot form a triangle from sticks with the given lengths."
   ]
  },
  {
   "cell_type": "code",
   "execution_count": 10,
   "metadata": {},
   "outputs": [
    {
     "name": "stdout",
     "output_type": "stream",
     "text": [
      "No\n",
      "Yes\n"
     ]
    }
   ],
   "source": [
    "def is_triangle(a,b,c):\n",
    "    ab = a + b\n",
    "    ac = a + c\n",
    "    bc = b + c\n",
    "    if (ab < c or ac < b or bc < a):\n",
    "        print(\"No\")\n",
    "    else:\n",
    "        print(\"Yes\")\n",
    "        \n",
    "is_triangle(1,2,12)\n",
    "is_triangle(3,4,5)"
   ]
  },
  {
   "cell_type": "markdown",
   "metadata": {},
   "source": [
    "2\\. Write a function that prompts the user to input three stick lengths, converts them to integers, and uses `is_triangle` to check whether sticks with the given lengths can form a triangle."
   ]
  },
  {
   "cell_type": "code",
   "execution_count": 11,
   "metadata": {},
   "outputs": [
    {
     "name": "stdout",
     "output_type": "stream",
     "text": [
      "Please input three values for our triangle test\n",
      "2\n",
      "3\n",
      "6\n",
      "No\n"
     ]
    }
   ],
   "source": [
    "def triangle():\n",
    "    print(\"Please input three values for our triangle test\")\n",
    "    a = int(input())\n",
    "    b = int(input())\n",
    "    c = int(input())\n",
    "    \n",
    "    is_triangle(a,b,c)\n",
    "    \n",
    "triangle()"
   ]
  },
  {
   "cell_type": "markdown",
   "metadata": {},
   "source": [
    "## Time check\n",
    "Think about how long you spent working on this Reading Journal - remember to avoid spending too much time in one sitting?"
   ]
  },
  {
   "cell_type": "markdown",
   "metadata": {},
   "source": [
    "    1:00 hrs"
   ]
  },
  {
   "cell_type": "markdown",
   "metadata": {},
   "source": [
    "## Getting unstuck\n",
    "\n",
    "If you have Python questions or run into problems while completing the reading, you should post them to the course discussion forum instead so you can get a quick response before your journal is submitted."
   ]
  }
 ],
 "metadata": {
  "anaconda-cloud": {},
  "kernelspec": {
   "display_name": "Python 3",
   "language": "python",
   "name": "python3"
  },
  "language_info": {
   "codemirror_mode": {
    "name": "ipython",
    "version": 3
   },
   "file_extension": ".py",
   "mimetype": "text/x-python",
   "name": "python",
   "nbconvert_exporter": "python",
   "pygments_lexer": "ipython3",
   "version": "3.7.4"
  }
 },
 "nbformat": 4,
 "nbformat_minor": 1
}
