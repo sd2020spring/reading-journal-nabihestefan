{
 "cells": [
  {
   "cell_type": "markdown",
   "metadata": {},
   "source": [
    "# Reading Journal 6\n",
    "\n",
    "Reading:\n",
    "* Think Python [Chapter 5.8-5.13](http://www.greenteapress.com/thinkpython2/html/thinkpython2006.html), [6.5-6.10](http://www.greenteapress.com/thinkpython2/html/thinkpython2007.html)\n",
    "* [Three Questions About Each Bug You Find](http://www.multicians.org/thvv/threeq.html)"
   ]
  },
  {
   "cell_type": "markdown",
   "metadata": {},
   "source": [
    "## [Chapter 5.8 - 5.13](http://www.greenteapress.com/thinkpython2/html/thinkpython2006.html)\n",
    "\n",
    "[Python Tutor](http://pythontutor.com/) can be helpful for visualizing stack diagrams, including for recursive execution.\n",
    "\n",
    "Chapter 5 leads into Chapter 6, and all the required exercises for the *Think Python* reading are in the Chapter 6 section."
   ]
  },
  {
   "cell_type": "markdown",
   "metadata": {},
   "source": [
    "## [Chapter 6.5 - 6.10](http://www.greenteapress.com/thinkpython2/html/thinkpython2007.html)"
   ]
  },
  {
   "cell_type": "markdown",
   "metadata": {
    "is_question": true,
    "problem": "Exercise 6.4"
   },
   "source": [
    "### Exercise 6.1  \n",
    "\n",
    "Draw a stack diagram for the following program. What does the program print?\n",
    "\n",
    "(If you would like feedback on your stack diagram, add it to the repo and add a cell to the notebook that names it; or, bring it to a NINJA during hours or to class.)\n",
    "\n",
    "You can do this on paper (best) or using [Python Tutor](http://pythontutor.com/) to check your understanding"
   ]
  },
  {
   "cell_type": "code",
   "execution_count": 1,
   "metadata": {
    "solution": "Exercise 6.4"
   },
   "outputs": [
    {
     "name": "stdout",
     "output_type": "stream",
     "text": [
      "9 90\n",
      "8100\n"
     ]
    }
   ],
   "source": [
    "def b(z):\n",
    "    prod = a(z, z)\n",
    "    print(z, prod)\n",
    "    return prod\n",
    "\n",
    "def a(x, y):\n",
    "    x = x + 1\n",
    "    return x * y\n",
    "\n",
    "def c(x, y, z):\n",
    "    total = x + y + z\n",
    "    square = b(total)**2\n",
    "    return square\n",
    "\n",
    "x = 1\n",
    "y = x + 1\n",
    "print(c(x, y + 3, x + y))"
   ]
  },
  {
   "cell_type": "markdown",
   "metadata": {
    "is_question": true,
    "problem": "Exercise 6.6"
   },
   "source": [
    "### Exercise 6.3  \n",
    "\n",
    "A palindrome is a word that is spelled the same backward and forward, like “noon” and “redivider”. Recursively, a word is a palindrome if the first and last letters are the same and the middle is a palindrome.\n",
    "\n",
    "You can use the `first`, `last`, and `middle` helper functions defined in *Think Python*, or do the string slices inside your function directly. Be sure to think about your base cases.\n",
    "    \n",
    "Write a function called `is_palindrome` that takes a string argument and returns `True` if it is a palindrome and `False` otherwise. Remember that you can use the built-in function `len` to check the length of a string.\n",
    "\n",
    "Write some unit tests for your function (e.g. using doctest) to show that it works as intended."
   ]
  },
  {
   "cell_type": "code",
   "execution_count": 12,
   "metadata": {
    "solution": "Exercise 6.6"
   },
   "outputs": [
    {
     "data": {
      "text/plain": [
       "False"
      ]
     },
     "execution_count": 12,
     "metadata": {},
     "output_type": "execute_result"
    }
   ],
   "source": [
    "def is_palindrome(str):\n",
    "    l = len(str)\n",
    "    if(len(str) <= 1):\n",
    "        return True\n",
    "    elif(str[0] == str[l-1]):\n",
    "        return is_palindrome(str[1:l-1])\n",
    "    else:\n",
    "        return False\n",
    "    \n",
    "is_palindrome(\"redivider\")\n",
    "is_palindrome(\"divider\")"
   ]
  },
  {
   "cell_type": "markdown",
   "metadata": {
    "is_question": true,
    "problem": "Exercise 6.6 challenge"
   },
   "source": [
    "### For fun (optional)\n",
    "\n",
    "Use the word list from [Chapter 9.1](http://www.greenteapress.com/thinkpython2/html/thinkpython2010.html) Exercise 1 to find all of the palindromes."
   ]
  },
  {
   "cell_type": "code",
   "execution_count": 22,
   "metadata": {
    "solution": "Exercise 6.6 challenge"
   },
   "outputs": [
    {
     "name": "stdout",
     "output_type": "stream",
     "text": [
      "aa\n",
      "aba\n",
      "aga\n",
      "aha\n",
      "ala\n",
      "alula\n",
      "ama\n",
      "ana\n",
      "anna\n",
      "ava\n",
      "awa\n",
      "bib\n",
      "bob\n",
      "boob\n",
      "bub\n",
      "civic\n",
      "dad\n",
      "deed\n",
      "deified\n",
      "deked\n",
      "deled\n",
      "denned\n",
      "dewed\n",
      "did\n",
      "dud\n",
      "eke\n",
      "eme\n",
      "ere\n",
      "eve\n",
      "ewe\n",
      "eye\n",
      "gag\n",
      "gig\n",
      "hah\n",
      "halalah\n",
      "hallah\n",
      "huh\n",
      "kaiak\n",
      "kayak\n",
      "keek\n",
      "kook\n",
      "level\n",
      "madam\n",
      "marram\n",
      "mem\n",
      "mim\n",
      "minim\n",
      "mom\n",
      "mum\n",
      "noon\n",
      "nun\n",
      "oho\n",
      "otto\n",
      "pap\n",
      "peep\n",
      "pep\n",
      "pip\n",
      "poop\n",
      "pop\n",
      "pup\n",
      "radar\n",
      "redder\n",
      "refer\n",
      "reifier\n",
      "repaper\n",
      "reviver\n",
      "rotator\n",
      "rotor\n",
      "sagas\n",
      "sees\n",
      "selles\n",
      "sememes\n",
      "semes\n",
      "seres\n",
      "sexes\n",
      "shahs\n",
      "sis\n",
      "solos\n",
      "sos\n",
      "stets\n",
      "tat\n",
      "tenet\n",
      "terret\n",
      "tit\n",
      "toot\n",
      "tot\n",
      "tut\n",
      "vav\n",
      "waw\n",
      "wow\n",
      "yay\n"
     ]
    }
   ],
   "source": [
    "words = open('words.txt')\n",
    "for line in words:\n",
    "    word = line.strip()\n",
    "    if(is_palindrome(word)):\n",
    "        print(word)"
   ]
  },
  {
   "cell_type": "markdown",
   "metadata": {
    "is_question": true,
    "problem": "Exercise 6.7"
   },
   "source": [
    "### Exercise 6.4  \n",
    "\n",
    "A number $a$ is a power of $b$ if it is divisible by $b$ and $a/b$ is a power of $b$. Write a function called `is_power` that takes parameters `a` and `b` and returns `True` if `a` is a power of `b`. Note: you will have to think about the base case."
   ]
  },
  {
   "cell_type": "code",
   "execution_count": 1,
   "metadata": {
    "solution": "Exercise 6.7"
   },
   "outputs": [
    {
     "ename": "IndentationError",
     "evalue": "expected an indented block (<ipython-input-1-9ea48b72ad6b>, line 3)",
     "output_type": "error",
     "traceback": [
      "\u001b[0;36m  File \u001b[0;32m\"<ipython-input-1-9ea48b72ad6b>\"\u001b[0;36m, line \u001b[0;32m3\u001b[0m\n\u001b[0;31m    if(a < b):\u001b[0m\n\u001b[0m     ^\u001b[0m\n\u001b[0;31mIndentationError\u001b[0m\u001b[0;31m:\u001b[0m expected an indented block\n"
     ]
    }
   ],
   "source": [
    "def is_power(a, b):\n",
    "    if(b == 1):\n",
    "        return False\n",
    "    if(a < b):\n",
    "        return False\n",
    "    if(a == b):\n",
    "        return True\n",
    "    else:\n",
    "        return is_power(a/b, b)\n",
    "    \n",
    "is_power(2048, 2)"
   ]
  },
  {
   "cell_type": "markdown",
   "metadata": {
    "is_question": true,
    "problem": "Exercise 6.8"
   },
   "source": [
    "### Exercise 6.5  \n",
    "\n",
    "The greatest common divisor (GCD) of $a$ and $b$ is the largest number that divides both of them with no remainder.\n",
    "\n",
    "One way to find the GCD of two numbers is based on the observation that if $r$ is the remainder when $a$ is divided by $b$, then $\\textrm{gcd}(a, b) = \\textrm{gcd}(b, r)$. As a base case, we can use $\\textrm{gcd}(a, 0) = a$.\n",
    "\n",
    "Write a function called `gcd` that takes parameters `a` and `b` and returns their greatest common divisor."
   ]
  },
  {
   "cell_type": "code",
   "execution_count": 34,
   "metadata": {
    "problem": "Exercise 6.8"
   },
   "outputs": [
    {
     "data": {
      "text/plain": [
       "4"
      ]
     },
     "execution_count": 34,
     "metadata": {},
     "output_type": "execute_result"
    }
   ],
   "source": [
    "def gcd(a, b):\n",
    "    if(b == 0):\n",
    "        return a\n",
    "    else:\n",
    "        return gcd(b, a%b)\n",
    "    \n",
    "gcd(36, 32)"
   ]
  },
  {
   "cell_type": "markdown",
   "metadata": {},
   "source": [
    "## Three Questions Why\n",
    "\n",
    "Read [Three Questions About Each Bug You Find](http://www.multicians.org/thvv/threeq.html)\n",
    "\n",
    "Keep your eyes open for an area of difficulty involving software development. This can a bug in code you write, difficulty with the tools involved in software development, or difficulty setting up your environment.\n",
    "\n",
    "When you find a bug, ask the \"three questions\":\n",
    "\n",
    "1. Is this mistake somewhere else also?\n",
    "2. What next bug is hidden behind this one?\n",
    "3. What should I do to prevent bugs like this?\n",
    "\n",
    "In the space below, describe a time you encountered a bug and some of your process as you worked to resolve it. We'll ask about this again in the next reading journal after you've read this article - try to apply the \"three questions\" as you work."
   ]
  },
  {
   "cell_type": "markdown",
   "metadata": {},
   "source": [
    "    When I've coded in the past, and although it may sound a bit strange, most of my bugs (at least the ones I can remember clearly, have had to do with syntax, me writing things wrong because of typos, or forgetting semicolons in Java, or things like that. In that case, I have to go line by line checking I dont have any other bugs like these, and after that, making sure I type mroe calmly and check what I type more."
   ]
  }
 ],
 "metadata": {
  "kernelspec": {
   "display_name": "Python 3",
   "language": "python",
   "name": "python3"
  },
  "language_info": {
   "codemirror_mode": {
    "name": "ipython",
    "version": 3
   },
   "file_extension": ".py",
   "mimetype": "text/x-python",
   "name": "python",
   "nbconvert_exporter": "python",
   "pygments_lexer": "ipython3",
   "version": "3.7.4"
  }
 },
 "nbformat": 4,
 "nbformat_minor": 1
}
