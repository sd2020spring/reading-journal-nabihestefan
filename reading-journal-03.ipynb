{
 "cells": [
  {
   "cell_type": "markdown",
   "metadata": {},
   "source": [
    "# Day 3 Reading Journal\n",
    "\n",
    "This journal includes several required exercises, but it is meant to encourage active reading more generally.  You may use the journal to take detailed notes, catalog questions, and explore the content from Think Python deeply.\n",
    "\n",
    "Reading: Think Python Chapter 8, 10.1-10.6"
   ]
  },
  {
   "cell_type": "markdown",
   "metadata": {},
   "source": [
    "## [Chapter 8](http://www.greenteapress.com/thinkpython2/html/thinkpython2009.html)\n",
    "\n",
    "Note: the exercise numbers below match up with the reading for ease of cross referencing."
   ]
  },
  {
   "cell_type": "markdown",
   "metadata": {},
   "source": [
    "### Chapter 8.3  \n",
    "\n",
    "Write a function that takes a string as an argument and displays the letters backward, one per line."
   ]
  },
  {
   "cell_type": "code",
   "execution_count": 5,
   "metadata": {},
   "outputs": [
    {
     "name": "stdout",
     "output_type": "stream",
     "text": [
      "p\n",
      "o\n",
      "t\n",
      "s\n"
     ]
    }
   ],
   "source": [
    "def backwards(word):\n",
    "    i = len(word) - 1\n",
    "    while i >= 0:\n",
    "        print(word[i])\n",
    "        i -= 1\n",
    "        \n",
    "backwards('stop')   "
   ]
  },
  {
   "cell_type": "markdown",
   "metadata": {},
   "source": [
    "### Chapter 8.4\n",
    "\n",
    "Write a function that translates words into [Pig Latin](https://en.wikipedia.org/wiki/Pig_Latin). You need not handle special cases like vowels."
   ]
  },
  {
   "cell_type": "code",
   "execution_count": 10,
   "metadata": {},
   "outputs": [
    {
     "name": "stdout",
     "output_type": "stream",
     "text": [
      "Finding tests in NoName\n",
      "Trying:\n",
      "    pig_latin(\"software\")\n",
      "Expecting:\n",
      "    'oftwaresay'\n",
      "ok\n"
     ]
    },
    {
     "data": {
      "text/plain": [
       "'oftwaresay'"
      ]
     },
     "execution_count": 10,
     "metadata": {},
     "output_type": "execute_result"
    }
   ],
   "source": [
    "def pig_latin(word):\n",
    "    \"\"\"\n",
    "    Return given 'word' translated into Pig Latin\n",
    "    \n",
    "    >>> pig_latin(\"software\")\n",
    "    'oftwaresay'\n",
    "    \"\"\"\n",
    "    \n",
    "    l = len(word)\n",
    "    \n",
    "    newWord = word[1:] + word[:1] + 'ay'\n",
    "    return newWord\n",
    "    pass #TODO: Implement me\n",
    "\n",
    "# Running doctests in Jupyter notebook:\n",
    "# If you'd like to actually run the doctests here, you can uncomment the lines below.\n",
    "# We use this slightly more complex method to test only the pig_latin function, without running tests on any other functions that may be in this notebook.\n",
    "# If all tests pass, you will see no output (you can change that by setting verbose to True) \n",
    "\n",
    "\n",
    "import doctest\n",
    "doctest.run_docstring_examples(pig_latin, globals(), verbose=True) \n",
    "\n"
   ]
  },
  {
   "cell_type": "markdown",
   "metadata": {},
   "source": [
    "### Chapter 8.7\n",
    "Encapsulate the character counting code in a fruitful function named `count` that accepts the string and the letter as arguments and returns the count."
   ]
  },
  {
   "cell_type": "code",
   "execution_count": 12,
   "metadata": {},
   "outputs": [
    {
     "name": "stdout",
     "output_type": "stream",
     "text": [
      "Finding tests in NoName\n",
      "Trying:\n",
      "    count(\"letter\", 't')\n",
      "Expecting:\n",
      "    2\n",
      "ok\n"
     ]
    }
   ],
   "source": [
    "def count(word, letter):\n",
    "    \"\"\"\n",
    "    Return the amount of times letter appears in word\n",
    "    \n",
    "    >>> count(\"letter\", 't')\n",
    "    2\n",
    "    \"\"\"\n",
    "    \n",
    "    count = 0\n",
    "    for x in word:\n",
    "        if x == letter:\n",
    "            count = count + 1\n",
    "            \n",
    "    return count\n",
    "\n",
    "import doctest\n",
    "doctest.run_docstring_examples(count, globals(), verbose=True)"
   ]
  },
  {
   "cell_type": "markdown",
   "metadata": {},
   "source": [
    "### Exercise 8.1\n",
    "Skim the documentation of the Python [string methods](http://docs.python.org/3/library/stdtypes.html#string-methods). Play with them to make sure you understand how they work-- strip, replace, and upper/lower are particularly useful. Show us some of your experiments."
   ]
  },
  {
   "cell_type": "code",
   "execution_count": 28,
   "metadata": {},
   "outputs": [
    {
     "name": "stdout",
     "output_type": "stream",
     "text": [
      "Elephant\n",
      "True\n",
      "ELEPHANT\n",
      "elephant\n"
     ]
    }
   ],
   "source": [
    "string = 'elephant'\n",
    "str = 'letter'\n",
    "print(string.capitalize())\n",
    "print(string.isascii())\n",
    "print(string.upper())\n",
    "print(string.lower())"
   ]
  },
  {
   "cell_type": "markdown",
   "metadata": {},
   "source": [
    "### Exercise 8.4  \n",
    "\n",
    "The following functions are all intended to check whether a string contains any lowercase letters, but at least some of them are wrong. For each function, describe what the function actually does (assuming that the parameter ```s``` is a string)."
   ]
  },
  {
   "cell_type": "code",
   "execution_count": null,
   "metadata": {
    "collapsed": true
   },
   "outputs": [],
   "source": [
    "def any_lowercase1(s):\n",
    "    for c in s:\n",
    "        if c.islower():\n",
    "            return True\n",
    "        else:\n",
    "            return False"
   ]
  },
  {
   "cell_type": "markdown",
   "metadata": {},
   "source": [
    "The function checks if the first letter of the string s is upper or lower case, if lower, it returns true, if upper, it returns false"
   ]
  },
  {
   "cell_type": "markdown",
   "metadata": {},
   "source": [
    " "
   ]
  },
  {
   "cell_type": "code",
   "execution_count": null,
   "metadata": {
    "collapsed": true
   },
   "outputs": [],
   "source": [
    "def any_lowercase2(s):\n",
    "    for c in s:\n",
    "        if 'c'.islower():\n",
    "            return 'True'\n",
    "        else:\n",
    "            return 'False'"
   ]
  },
  {
   "cell_type": "markdown",
   "metadata": {},
   "source": [
    "The function checks if 'c' is lower or uper case. lower case is True, upper case is False. it will alwasy return True."
   ]
  },
  {
   "cell_type": "markdown",
   "metadata": {},
   "source": [
    " "
   ]
  },
  {
   "cell_type": "code",
   "execution_count": null,
   "metadata": {
    "collapsed": true
   },
   "outputs": [],
   "source": [
    "def any_lowercase3(s):\n",
    "    for c in s:\n",
    "        flag = c.islower()\n",
    "    return flag"
   ]
  },
  {
   "cell_type": "markdown",
   "metadata": {},
   "source": [
    "The function will return True or False basically answering the question 'Is the last character of the string s Lower Case?'"
   ]
  },
  {
   "cell_type": "markdown",
   "metadata": {},
   "source": [
    " "
   ]
  },
  {
   "cell_type": "code",
   "execution_count": null,
   "metadata": {
    "collapsed": true
   },
   "outputs": [],
   "source": [
    "def any_lowercase4(s):\n",
    "    flag = False\n",
    "    for c in s:\n",
    "        flag = flag or c.islower()\n",
    "    return flag"
   ]
  },
  {
   "cell_type": "markdown",
   "metadata": {},
   "source": [
    "The function will return True is at least one character of the string s is lower case."
   ]
  },
  {
   "cell_type": "markdown",
   "metadata": {},
   "source": [
    " "
   ]
  },
  {
   "cell_type": "code",
   "execution_count": null,
   "metadata": {
    "collapsed": true
   },
   "outputs": [],
   "source": [
    "def any_lowercase5(s):\n",
    "    for c in s:\n",
    "        if not c.islower():\n",
    "            return False\n",
    "    return True"
   ]
  },
  {
   "cell_type": "markdown",
   "metadata": {},
   "source": [
    "The function will check if the program only has lowercase letters, if even one letter is uppercase, it will return False, else, it will return True."
   ]
  },
  {
   "cell_type": "markdown",
   "metadata": {},
   "source": [
    " "
   ]
  },
  {
   "cell_type": "markdown",
   "metadata": {},
   "source": [
    "## [Chapter 10.1 - 10.6](http://www.greenteapress.com/thinkpython2/html/thinkpython2011.html)\n",
    "\n",
    "You may want to review [state diagrams in Chapter 2](http://www.greenteapress.com/thinkpython2/html/thinkpython2003.html#toc13).\n",
    "\n"
   ]
  },
  {
   "cell_type": "markdown",
   "metadata": {},
   "source": [
    "**Quick check:** What type of items can be placed in a list?"
   ]
  },
  {
   "cell_type": "code",
   "execution_count": null,
   "metadata": {},
   "outputs": [],
   "source": [
    "Any type of items. And all the items in the list dont have to be the same type."
   ]
  },
  {
   "cell_type": "markdown",
   "metadata": {},
   "source": [
    "**Quick check:** Give at least one similarity and one difference between lists and strings."
   ]
  },
  {
   "cell_type": "markdown",
   "metadata": {},
   "source": [
    "Indexes are used the same way in Strings and Lists. In the case of Strings, all the items have to be characters, in Lists they can be any type of variable. (Also Strings cant contain another string in a single index, while Lists can do this through nesting."
   ]
  },
  {
   "cell_type": "markdown",
   "metadata": {},
   "source": [
    "### Exercise 10.4  \n",
    "Write a function called `middle` that takes a list and returns a new list that contains all but the first and last elements. So `middle([1,2,3,4])` should return `[2,3]`."
   ]
  },
  {
   "cell_type": "code",
   "execution_count": 30,
   "metadata": {},
   "outputs": [
    {
     "name": "stdout",
     "output_type": "stream",
     "text": [
      "Finding tests in NoName\n",
      "Trying:\n",
      "    middle([1, 2, 3, 4])\n",
      "Expecting:\n",
      "    [2, 3]\n",
      "ok\n"
     ]
    }
   ],
   "source": [
    "def middle(t):\n",
    "    \"\"\"Return all but the first and last elements of list t.\n",
    "    \n",
    "    >>> middle([1, 2, 3, 4])\n",
    "    [2, 3]\n",
    "    \"\"\"\n",
    "    l = len(t)\n",
    "    new = t[1:l-1]\n",
    "    return new\n",
    "    \n",
    "    pass #TODO: Implement me\n",
    "\n",
    "\n",
    "import doctest\n",
    "doctest.run_docstring_examples(middle, globals(), verbose=True)"
   ]
  },
  {
   "cell_type": "markdown",
   "metadata": {},
   "source": [
    "### Exercise\n",
    "\n",
    "Write a Python function named `average` that takes a list of numbers and returns their arithmetic mean. Include at least one unit test."
   ]
  },
  {
   "cell_type": "code",
   "execution_count": 38,
   "metadata": {},
   "outputs": [
    {
     "name": "stdout",
     "output_type": "stream",
     "text": [
      "Finding tests in NoName\n",
      "Trying:\n",
      "    average([1,2,3,4])\n",
      "Expecting:\n",
      "    2.5\n",
      "ok\n",
      "Trying:\n",
      "    average([1,2,3,4,5])\n",
      "Expecting:\n",
      "    3.0\n",
      "ok\n"
     ]
    }
   ],
   "source": [
    "def average(numbers):\n",
    "    \"\"\"Return the average value of the numbers in the list numbers\n",
    "    \n",
    "    >>> average([1,2,3,4])\n",
    "    2.5\n",
    "    \n",
    "    >>> average([1,2,3,4,5])\n",
    "    3.0\n",
    "    \"\"\"\n",
    "    l = len(numbers)\n",
    "    t = 0\n",
    "    for i in numbers:\n",
    "        t += i\n",
    "        \n",
    "    avg = t / l\n",
    "    return avg\n",
    "\n",
    "import doctest\n",
    "doctest.run_docstring_examples(average, globals(), verbose=True)"
   ]
  },
  {
   "cell_type": "markdown",
   "metadata": {},
   "source": [
    "# Supplementary Reading\n",
    "Read [Holding a Program in One's Head](http://paulgraham.com/head.html). _Note: This 2007 piece has useful insights about programming but refers to the programmer throughout as “he” - please mentally replace with “they” or your favorite gender-nonspecific pronoun._\n",
    "\n",
    "From the list of bullet points:\n",
    "\n",
    "1\\. Is there one that you already apply to any activities in your life? Name the bullet point, and describe the area where you apply it."
   ]
  },
  {
   "cell_type": "markdown",
   "metadata": {},
   "source": [
    "I have applied all these previously in other code projects I had in high school. The first one that comes to mind is a battleship game we designed in Java, which started as a class project, but when it ended, it became a personal project for me. I worked all nighters on this, alone in my room, by tweaking and retweaking it constantly to be able to achieve the perfection I wanted."
   ]
  },
  {
   "cell_type": "markdown",
   "metadata": {},
   "source": [
    "2\\. Is there a point that you haven't applied but would like to?"
   ]
  },
  {
   "cell_type": "markdown",
   "metadata": {},
   "source": [
    "I feel I have applied most if not all of these point previously, in programming and non-programming projects, so I jsut wish to now apply them consciously."
   ]
  },
  {
   "cell_type": "markdown",
   "metadata": {},
   "source": [
    "3\\. Is there a point that you don't believe in, don't believe can apply in this course, or doesn't make sense to you? If so, name the bullet point and briefly describe why."
   ]
  },
  {
   "cell_type": "markdown",
   "metadata": {},
   "source": [
    "I believe all these points are completely valid, in fact, I believe I normally try and apply them, either consciously or unconsciously."
   ]
  },
  {
   "cell_type": "markdown",
   "metadata": {},
   "source": [
    "## Time check\n",
    "Think about how long you spent working on this Reading Journal - remember to avoid spending too much time in one sitting?"
   ]
  },
  {
   "cell_type": "raw",
   "metadata": {},
   "source": [
    "1 hr"
   ]
  },
  {
   "cell_type": "markdown",
   "metadata": {},
   "source": [
    "## Getting unstuck\n",
    "\n",
    "If you have Python questions or run into problems while completing the reading, you should post them to the course discussion forum instead so you can get a quick response before your journal is submitted."
   ]
  },
  {
   "cell_type": "markdown",
   "metadata": {},
   "source": [
    " "
   ]
  }
 ],
 "metadata": {
  "anaconda-cloud": {},
  "kernelspec": {
   "display_name": "Python 3",
   "language": "python",
   "name": "python3"
  },
  "language_info": {
   "codemirror_mode": {
    "name": "ipython",
    "version": 3
   },
   "file_extension": ".py",
   "mimetype": "text/x-python",
   "name": "python",
   "nbconvert_exporter": "python",
   "pygments_lexer": "ipython3",
   "version": "3.7.4"
  }
 },
 "nbformat": 4,
 "nbformat_minor": 1
}
