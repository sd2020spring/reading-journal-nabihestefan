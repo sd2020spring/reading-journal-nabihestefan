{
 "cells": [
  {
   "cell_type": "markdown",
   "metadata": {},
   "source": [
    "# Day 13 Reading Journal\n",
    "\n",
    "Reading: \n",
    " - [How to Write a Git Commit Message](https://chris.beams.io/posts/git-commit/)\n",
    " - [Check In Early, Check In Often](https://blog.codinghorror.com/check-in-early-check-in-often/)"
   ]
  },
  {
   "cell_type": "markdown",
   "metadata": {},
   "source": [
    "## [How to Write a Git Commit Message](https://chris.beams.io/posts/git-commit/)\n",
    "\n",
    "### Exercise\n",
    "\n",
    "Choose a commit message from one of your past mini-projects (run `git log` from within the repository to see your history). Paste the commit message below (it doesn't have to be a great one, and in fact it's probably better if it has room for improvement):\n"
   ]
  },
  {
   "cell_type": "code",
   "execution_count": null,
   "metadata": {},
   "outputs": [],
   "source": [
    "Original commit message\n"
   ]
  },
  {
   "cell_type": "markdown",
   "metadata": {},
   "source": [
    "Using the \"seven rules of a great Git commit message\" from the reading, write a more useful version of the original commit message in the box below:"
   ]
  },
  {
   "cell_type": "code",
   "execution_count": null,
   "metadata": {},
   "outputs": [],
   "source": [
    "Improved commit message:\n",
    "    "
   ]
  },
  {
   "cell_type": "markdown",
   "metadata": {},
   "source": [
    "## [Check In Early, Check In Often](https://blog.codinghorror.com/check-in-early-check-in-often/)\n",
    "\n",
    "### Exercise\n",
    "\n",
    "What are the benefits of checking in code more often? Are there any drawbacks? Explain below."
   ]
  },
  {
   "cell_type": "markdown",
   "metadata": {},
   "source": []
  }
 ],
 "metadata": {
  "kernelspec": {
   "display_name": "Python 3",
   "language": "python",
   "name": "python3"
  },
  "language_info": {
   "codemirror_mode": {
    "name": "ipython",
    "version": 3
   },
   "file_extension": ".py",
   "mimetype": "text/x-python",
   "name": "python",
   "nbconvert_exporter": "python",
   "pygments_lexer": "ipython3",
   "version": "3.7.4"
  }
 },
 "nbformat": 4,
 "nbformat_minor": 1
}
