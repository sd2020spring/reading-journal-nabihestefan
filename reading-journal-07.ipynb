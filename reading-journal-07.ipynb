{
 "cells": [
  {
   "cell_type": "markdown",
   "metadata": {},
   "source": [
    "# Reading Journal 7\n",
    "\n",
    "Reading: \n",
    " - *Think Python*, [Chapter 11.1-11.5](http://www.greenteapress.com/thinkpython/html/thinkpython012.html), [Chapter 12.1-12.7](http://www.greenteapress.com/thinkpython2/html/thinkpython2013.html)\n",
    " - [5 Whys](https://en.wikipedia.org/wiki/5_Whys), Introduction and Examples; and [An Introduction to 5-why](http://www.bulsuk.com/2009/03/5-why-finding-root-causes.html)"
   ]
  },
  {
   "cell_type": "markdown",
   "metadata": {},
   "source": [
    "## [Chapter 11](http://www.greenteapress.com/thinkpython/html/thinkpython012.html)\n"
   ]
  },
  {
   "cell_type": "markdown",
   "metadata": {},
   "source": [
    "**Quick check:** In about one sentence using your own words, what is a dictionary?"
   ]
  },
  {
   "cell_type": "markdown",
   "metadata": {},
   "source": [
    "    A type of list that has indices that dont have to necessarily be an integer"
   ]
  },
  {
   "cell_type": "markdown",
   "metadata": {},
   "source": [
    " ### Exercise 11.2  \n",
    "\n",
    "Dictionaries have a method called [`get`](https://docs.python.org/3/library/stdtypes.html#mapping-types-dict) that takes a key and a default value. If the key appears in the dictionary, `get` returns the corresponding value; otherwise it returns the default value. For example:\n",
    "\n",
    "```\n",
    ">>> h = histogram('a')\n",
    ">>> print(h)\n",
    "{'a': 1}\n",
    ">>> h.get('a', 0)\n",
    "1\n",
    ">>> h.get('b', 0)\n",
    "0\n",
    "```\n",
    "\n",
    "Use `get` to rewrite the `histogram` function below more concisely. You should be able to eliminate the `if` statement. Add unit tests (docstring examples) for your histogram implementation."
   ]
  },
  {
   "cell_type": "code",
   "execution_count": 23,
   "metadata": {},
   "outputs": [
    {
     "name": "stdout",
     "output_type": "stream",
     "text": [
      "Finding tests in NoName\n",
      "Trying:\n",
      "    histogram(\"sass\")\n",
      "Expecting:\n",
      "    {'s': 3, 'a': 1}\n",
      "ok\n",
      "Trying:\n",
      "    histogram(\"stress\")\n",
      "Expecting:\n",
      "    {'s': 3, 't': 1, 'r': 1, 'e': 1}\n",
      "ok\n",
      "Trying:\n",
      "    histogram(\"mississippi\")\n",
      "Expecting:\n",
      "    {'m': 1, 'i': 4, 's': 4, 'p': 2}\n",
      "ok\n",
      "Trying:\n",
      "    histogram(\"hello\")\n",
      "Expecting:\n",
      "    {'h': 1, 'e': 1, 'l': 2, 'o': 1}\n",
      "ok\n",
      "Trying:\n",
      "    histogram(\"hello\")\n",
      "Expecting:\n",
      "    {'e': 1, 'h': 1, 'l': 2, 'o': 1}\n",
      "**********************************************************************\n",
      "File \"__main__\", line 20, in NoName\n",
      "Failed example:\n",
      "    histogram(\"hello\")\n",
      "Expected:\n",
      "    {'e': 1, 'h': 1, 'l': 2, 'o': 1}\n",
      "Got:\n",
      "    {'h': 1, 'e': 1, 'l': 2, 'o': 1}\n"
     ]
    }
   ],
   "source": [
    "import doctest\n",
    "\n",
    "def histogram(s):\n",
    "    \"\"\"Return a dictionary that counts occurrences of each character in s.\n",
    "    \n",
    "    Examples:\n",
    "    \n",
    "    >>> histogram(\"sass\")\n",
    "    {'s': 3, 'a': 1}\n",
    "    \n",
    "    >>> histogram(\"stress\")\n",
    "    {'s': 3, 't': 1, 'r': 1, 'e': 1}\n",
    "    \n",
    "    >>> histogram(\"mississippi\")\n",
    "    {'m': 1, 'i': 4, 's': 4, 'p': 2}\n",
    "    \n",
    "    >>> histogram(\"hello\")\n",
    "    {'h': 1, 'e': 1, 'l': 2, 'o': 1}\n",
    "    \n",
    "    >>> histogram(\"hello\")\n",
    "    {'e': 1, 'h': 1, 'l': 2, 'o': 1}\n",
    "    \"\"\"\n",
    "    d = dict()\n",
    "    for c in s:\n",
    "        d[c] = d.get(c, 0) + 1\n",
    "    return d\n",
    "\n",
    "doctest.run_docstring_examples(histogram, globals(), verbose = True)"
   ]
  },
  {
   "cell_type": "markdown",
   "metadata": {},
   "source": [
    " "
   ]
  },
  {
   "cell_type": "markdown",
   "metadata": {
    "is_question": true,
    "problem": "Exercise 11.4"
   },
   "source": [
    "### Exercise 11.4  \n",
    "\n",
    "Modify `reverse_lookup` so that it builds and returns a list of all keys that map to `v`, or an empty list if there are none. Add unit tests for your implementation."
   ]
  },
  {
   "cell_type": "code",
   "execution_count": 15,
   "metadata": {
    "solution": "Exercise 11.4"
   },
   "outputs": [
    {
     "name": "stdout",
     "output_type": "stream",
     "text": [
      "Finding tests in NoName\n",
      "Trying:\n",
      "    reverse_lookup({'s': 3, 't': 1, 'r': 1, 'e': 1}, 1)\n",
      "Expecting:\n",
      "    ['t', 'r', 'e']\n",
      "ok\n",
      "Trying:\n",
      "    reverse_lookup({'s': 3, 't': 1, 'r': 1, 'e': 1}, 2)\n",
      "Expecting:\n",
      "    []\n",
      "ok\n"
     ]
    }
   ],
   "source": [
    "def reverse_lookup(d, v):\n",
    "    \"\"\"Look up any keys that have an specific value and return them in a list\n",
    "    Examples:\n",
    "    \n",
    "    >>> reverse_lookup({'s': 3, 't': 1, 'r': 1, 'e': 1}, 1)\n",
    "    ['t', 'r', 'e']\n",
    "    \n",
    "    >>> reverse_lookup({'s': 3, 't': 1, 'r': 1, 'e': 1}, 2)\n",
    "    []\n",
    "    \"\"\"\n",
    "    values = []\n",
    "    for k in d:\n",
    "        if d[k] == v:\n",
    "            values.append(k)\n",
    "    return values\n",
    "    \n",
    "doctest.run_docstring_examples(reverse_lookup, globals(), verbose = True)"
   ]
  },
  {
   "cell_type": "markdown",
   "metadata": {},
   "source": [
    "If you'd like to learn more about errors and exceptions, you can check out the [Python tutorial](https://docs.python.org/3/tutorial/errors.html) or read ahead to [Appendix A](http://www.greenteapress.com/thinkpython2/html/thinkpython2021.html) of Think Python. If you choose to use doctest for your unit testing, it can also [deal with exceptions](https://docs.python.org/3/library/doctest.html#what-about-exceptions)."
   ]
  },
  {
   "cell_type": "markdown",
   "metadata": {},
   "source": [
    "**Quick check** What type of objects can be used as keys to a dictionary, i.e. what property must they have?"
   ]
  },
  {
   "cell_type": "markdown",
   "metadata": {},
   "source": [
    "    Keys have to be hashable values. Thise means that if passed through a hash function, there must be a return integer. items like lists do NOT have this property"
   ]
  },
  {
   "cell_type": "markdown",
   "metadata": {},
   "source": [
    "## [Chapter 12](http://www.greenteapress.com/thinkpython2/html/thinkpython2013.html)\n",
    "\n",
    "**Quick check:** In about one sentence using your own words, what is a tuple?"
   ]
  },
  {
   "cell_type": "markdown",
   "metadata": {},
   "source": [
    "    Tuples are unchangeable lists"
   ]
  },
  {
   "cell_type": "markdown",
   "metadata": {
    "is_question": true,
    "problem": "Exercise 12.1"
   },
   "source": [
    "### Chapter 12.4  \n",
    "\n",
    "Many of the built-in functions use variable-length argument tuples. For example, `max` and `min` can take any number of arguments:\n",
    "\n",
    "```\n",
    ">>> max(1,2,3)\n",
    "3\n",
    "```\n",
    "\n",
    "But `sum` does not.\n",
    "\n",
    "```\n",
    ">>> sum(1, 2, 3)\n",
    "TypeError: sum expected at most 2 arguments, got 3\n",
    "```\n",
    "\n",
    "Write a function called ```sumall``` that takes any number of arguments and returns their sum. \n",
    "\n",
    "Write unit tests for your function. Do I actually need to keep saying this? Let's assume it's always a good idea :)"
   ]
  },
  {
   "cell_type": "code",
   "execution_count": 42,
   "metadata": {
    "solution": "Exercise 12.1"
   },
   "outputs": [
    {
     "name": "stdout",
     "output_type": "stream",
     "text": [
      "Finding tests in NoName\n",
      "Trying:\n",
      "    sumall(1,2.5,3,4)\n",
      "Expecting:\n",
      "    10.5\n",
      "ok\n",
      "Trying:\n",
      "    sumall(1,2,3,4,5,6,7,8,9,10.0)\n",
      "Expecting:\n",
      "    55.0\n",
      "ok\n",
      "Trying:\n",
      "    sumall('N', 'a', 'b', 'i', 'h')\n",
      "Expecting:\n",
      "    'Nabih'\n",
      "ok\n"
     ]
    }
   ],
   "source": [
    "def sumall(*args):\n",
    "    \"\"\"Returns the sum of all elements inputed\n",
    "    \n",
    "    >>> sumall(1,2.5,3,4)\n",
    "    10.5\n",
    "    \n",
    "    >>> sumall(1,2,3,4,5,6,7,8,9,10.0)\n",
    "    55.0\n",
    "    \n",
    "    >>> sumall('N', 'a', 'b', 'i', 'h')\n",
    "    'Nabih'\n",
    "    \n",
    "    \"\"\"\n",
    "    \n",
    "    l = len(args)\n",
    "    i = 1\n",
    "    s = args[0]\n",
    "    while i < l:\n",
    "        s += args[i]\n",
    "        i += 1\n",
    "    return s\n",
    "\n",
    "doctest.run_docstring_examples(sumall, globals(), verbose = True)"
   ]
  },
  {
   "cell_type": "markdown",
   "metadata": {},
   "source": [
    "If you're interested in more flexible ways to pass arguments to functions, check out the [Python tutorial](https://docs.python.org/3/tutorial/controlflow.html#more-on-defining-functions). For instance, you can also use keyword arguments, which are collected into a dictionary just like `*` gathers variable numbers of positional arguments into a tuple.\n",
    "\n",
    "This pattern is very common for defining functions with complex optional behaviors in Python, and you will often see definitions like:\n",
    "\n",
    "```python\n",
    "def my_func(required_argument1, *arguments, **keywords):\n",
    "    ...\n",
    "```"
   ]
  },
  {
   "cell_type": "markdown",
   "metadata": {},
   "source": [
    "**Quick check** Give an example of when you might use each sequence type:"
   ]
  },
  {
   "cell_type": "markdown",
   "metadata": {},
   "source": [
    "- tuple: recieving values for a function without knowing how many there are\n",
    "- list: when you want a changeable array of values\n",
    "- string: when you want a mutable array of characters that can easily be read as a whole"
   ]
  },
  {
   "cell_type": "markdown",
   "metadata": {
    "is_question": true,
    "problem": "Exercise 12.3"
   },
   "source": [
    "### Exercise 12.1 \n",
    "\n",
    "Write a function called `most_frequent` that takes a string and prints the letters in decreasing order of frequency. Find text samples from several different languages and see how letter frequency varies between languages. Compare your results with the tables at http://en.wikipedia.org/wiki/Letter_frequencies. \n",
    "\n",
    "Allen's solution (try it on your own first): http://greenteapress.com/thinkpython2/code/most_frequent.py. "
   ]
  },
  {
   "cell_type": "code",
   "execution_count": 49,
   "metadata": {
    "solution": "Exercise 12.3"
   },
   "outputs": [
    {
     "name": "stdout",
     "output_type": "stream",
     "text": [
      "Finding tests in NoName\n",
      "Trying:\n",
      "    most_frequent(\"hoh\")\n",
      "Expecting:\n",
      "    h\n",
      "    o\n",
      "ok\n",
      "Trying:\n",
      "    most_frequent(\"hello\")\n",
      "Expecting:\n",
      "    l\n",
      "    o\n",
      "    h\n",
      "    e\n",
      "ok\n"
     ]
    }
   ],
   "source": [
    "def most_frequent(str):\n",
    "    \"\"\"Takes a string and prints the characters in decreasing order of frequency\n",
    "    \n",
    "    >>> most_frequent(\"hoh\")\n",
    "    h\n",
    "    o\n",
    "    \n",
    "    >>> most_frequent(\"hello\")\n",
    "    l\n",
    "    o\n",
    "    h\n",
    "    e\n",
    "    \n",
    "    \"\"\"\n",
    "    \n",
    "    h = histogram(str)\n",
    "\n",
    "    letters = []\n",
    "    for c, freq in h.items():\n",
    "            letters.append((freq, c))\n",
    "\n",
    "    letters.sort(reverse = True)\n",
    "\n",
    "    new = []\n",
    "    for freq, x in letters:\n",
    "        new.append(x)\n",
    "        print(x)\n",
    "\n",
    "\n",
    "doctest.run_docstring_examples(most_frequent, globals(), verbose = True)"
   ]
  },
  {
   "cell_type": "markdown",
   "metadata": {},
   "source": [
    "## 5 Whys\n",
    "\n",
    "1. Read the [5 Whys](https://en.wikipedia.org/wiki/5_Whys), introduction and Examples.\n",
    "2. Read [An Introduction to 5-why](http://www.bulsuk.com/2009/03/5-why-finding-root-causes.html).\n",
    "3. In the space below, describe a problem you've observed or encountered outside of this class, and take it to at least two levels of why. This can be a problem that you've run into personally, or a \"broken process\" in a institution you're a part of or interact with."
   ]
  },
  {
   "cell_type": "markdown",
   "metadata": {},
   "source": [
    "Problem: My mattress cover keeps sliding off my mattress \n",
    "- Why?: When jumping unto my bed, when I miss, I pull it down a little with me\n",
    "- Why?: My bed is high, meaning I have to jump to get unto it\n",
    "- Why?: I have to jump because I dont want to move my chair where I leave everything\n",
    "- Why?: I am lazy"
   ]
  }
 ],
 "metadata": {
  "celltoolbar": "Visualize",
  "kernelspec": {
   "display_name": "Python 3",
   "language": "python",
   "name": "python3"
  },
  "language_info": {
   "codemirror_mode": {
    "name": "ipython",
    "version": 3
   },
   "file_extension": ".py",
   "mimetype": "text/x-python",
   "name": "python",
   "nbconvert_exporter": "python",
   "pygments_lexer": "ipython3",
   "version": "3.7.4"
  }
 },
 "nbformat": 4,
 "nbformat_minor": 1
}
