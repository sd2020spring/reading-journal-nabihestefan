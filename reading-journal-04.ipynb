{
 "cells": [
  {
   "cell_type": "markdown",
   "metadata": {},
   "source": [
    "# Day 4 Reading Journal\n",
    "\n",
    "This journal includes several required exercises, but it is meant to encourage active reading more generally.  You should use the journal to take detailed notes, catalog questions, and explore the content from Think Python deeply.\n",
    "\n",
    "Reading: \n",
    " - *Think Python* [Chapter 10](http://www.greenteapress.com/thinkpython2/html/thinkpython2011.html)\n",
    " - [Linux at Olin](https://sd2020spring.github.io/files/notes/linux.pdf) (PDF) through 2.10"
   ]
  },
  {
   "cell_type": "markdown",
   "metadata": {},
   "source": [
    "## [Chapter 10](http://www.greenteapress.com/thinkpython2/html/thinkpython2011.html)\n",
    "\n",
    "You may want to review [state diagrams in Chapter 2](http://greenteapress.com/thinkpython2/html/thinkpython2003.html). [Python Tutor](http://pythontutor.com/) is also helpful for visualizing the state of your program.\n",
    "\n"
   ]
  },
  {
   "cell_type": "markdown",
   "metadata": {},
   "source": [
    "### Exercise 10.4 \n",
    "Write a function called `chop` that takes a list, modifies it by removing the first and last elements, and returns `None`.\n",
    "\n",
    "What is the difference between `middle` (that you wrote in RJ3) and `chop`? Sketch out the program state or take a look at each in Python Tutor and answer the question in the Markdown cell below."
   ]
  },
  {
   "cell_type": "code",
   "execution_count": 6,
   "metadata": {},
   "outputs": [],
   "source": [
    "def chop(t):\n",
    "    l = len(t)\n",
    "    t = t[1:l-1]\n",
    "\n",
    "chop([1,2,3,4])"
   ]
  },
  {
   "cell_type": "markdown",
   "metadata": {},
   "source": [
    "middle returned the list, chop doesnt"
   ]
  },
  {
   "cell_type": "markdown",
   "metadata": {},
   "source": [
    "\n",
    "\n",
    "### Exercise 10.6 \n",
    "Two words are anagrams if you can rearrange the letters from one to spell the other. Write a function called `is_anagram` that takes two strings and returns `True` if they are anagrams.\n",
    "\n",
    "*Hint*: There is a difficult way to do this and an easy(ier) way. The difficult way is to test whether it's possible to rearrange the first word into the second. The easy way is to test whether it's possible to rearrange both words into a third string (which might or might not be a word). Is there a rule for how to arrange letters, that it's easy to arrange any string into?"
   ]
  },
  {
   "cell_type": "code",
   "execution_count": 11,
   "metadata": {},
   "outputs": [
    {
     "data": {
      "text/plain": [
       "False"
      ]
     },
     "execution_count": 11,
     "metadata": {},
     "output_type": "execute_result"
    }
   ],
   "source": [
    "def is_anagram(str1, str2):\n",
    "    sorted1 = ''.join(sorted(str1))\n",
    "    sorted2 = ''.join(sorted(str2))\n",
    "                    \n",
    "    return (sorted1 == sorted2)\n",
    "                    "
   ]
  },
  {
   "cell_type": "markdown",
   "metadata": {},
   "source": [
    "## Linux at Olin\n",
    "\n",
    "What shortcuts can you use to save keystrokes and be more efficient at the command line?"
   ]
  },
  {
   "cell_type": "markdown",
   "metadata": {},
   "source": [
    "    aliases\n",
    "    You can setthem up for any shortcuts you want in the terminal"
   ]
  },
  {
   "cell_type": "markdown",
   "metadata": {},
   "source": [
    "How can you \"undo\" the ```rm``` command and get your file back?"
   ]
  },
  {
   "cell_type": "markdown",
   "metadata": {},
   "source": [
    "    you cannot, if you rm (and if you rm -i, and confirm it) then that file is lost"
   ]
  },
  {
   "cell_type": "markdown",
   "metadata": {},
   "source": [
    "How many times is Montgomery mentioned in _The Island of Dr. Moreau_?"
   ]
  },
  {
   "cell_type": "markdown",
   "metadata": {},
   "source": [
    "    Montgomery is mentioned 202 times in The Island of Dr.Moreau"
   ]
  },
  {
   "cell_type": "markdown",
   "metadata": {},
   "source": [
    "\n",
    "\n",
    "## Quick poll\n",
    "Which one of these statements describes the amount of time that you think it took you to complete the exercises you submitted in this Reading Journal?\n",
    "\n",
    "(1) finished before 45 minutes\n",
    "\n",
    "(2) about an hour\n",
    "\n",
    "(3) approximately 2 hours\n",
    "\n",
    "(4) over 2 hours by a little\n",
    "\n",
    "(5) over 2 hours by a lot\n"
   ]
  },
  {
   "cell_type": "markdown",
   "metadata": {},
   "source": [
    "    (1) finished before 45 minutes"
   ]
  }
 ],
 "metadata": {
  "anaconda-cloud": {},
  "kernelspec": {
   "display_name": "Python 3",
   "language": "python",
   "name": "python3"
  },
  "language_info": {
   "codemirror_mode": {
    "name": "ipython",
    "version": 3
   },
   "file_extension": ".py",
   "mimetype": "text/x-python",
   "name": "python",
   "nbconvert_exporter": "python",
   "pygments_lexer": "ipython3",
   "version": "3.7.4"
  }
 },
 "nbformat": 4,
 "nbformat_minor": 1
}
