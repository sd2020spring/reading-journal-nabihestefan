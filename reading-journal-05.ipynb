{
 "cells": [
  {
   "cell_type": "markdown",
   "metadata": {},
   "source": [
    "# Day 5 Reading Journal\n",
    "\n",
    "Reading: _Think Python_ [Chapter 4](http://www.greenteapress.com/thinkpython2/html/thinkpython2005.html)"
   ]
  },
  {
   "cell_type": "markdown",
   "metadata": {},
   "source": [
    "## [Chapter 4](http://www.greenteapress.com/thinkpython2/html/thinkpython2005.html)\n",
    "\n",
    "In today's reading, you will be exploring the [`turtle` module](https://docs.python.org/3.7/library/turtle.html), which allows you to create images using [turtle graphics](https://en.wikipedia.org/wiki/Turtle_graphics)."
   ]
  },
  {
   "cell_type": "markdown",
   "metadata": {},
   "source": [
    "### Get started\n",
    "\n",
    "Because turtles don't like to be caged up in Jupyter notebooks, we've included a separate Python script `shapes.py` alongside this reading journal. You can edit `shapes.py` in Atom or your favorite text editor. Run `shapes.py` from the command line from within your Reading Journal folder.\n",
    "\n",
    "```bash\n",
    "$ cd ReadingJournal\n",
    "$ python shapes.py\n",
    "```\n",
    "You should see brave Bob spring into the world and run forward. You can close the window when you're done by clicking its close box.\n",
    "\n",
    "After you're done, you'll need to save/add/commit/push `shapes.py` to submit.\n",
    "\n",
    "```bash\n",
    "$ cd ReadingJournal\n",
    "$ git add reading-journal-05.ipynb shapes.py\n",
    "$ git commit -m \"Completed reading journal 5\"\n",
    "$ git push origin master\n",
    "```"
   ]
  },
  {
   "cell_type": "code",
   "execution_count": null,
   "metadata": {},
   "outputs": [],
   "source": [
    "import turtle\n",
    "\n",
    "# Create the world, and a turtle to put in it\n",
    "bob = turtle.Turtle()\n",
    "\n",
    "# Get moving, turtle!\n",
    "bob.fd(100)\n",
    "\n",
    "# Wait for the user to close the window\n",
    "turtle.mainloop()"
   ]
  },
  {
   "cell_type": "markdown",
   "metadata": {
    "is_question": true,
    "problem": "Section 4.3"
   },
   "source": [
    "### Chapter 4.3\n",
    "Work through exercises 1-4 in Chapter 4.3.\n",
    "\n",
    "Add `square`, `polygon`, and `circle` functions to `shapes.py`, and modify `shapes.py` to call your functions instead of moving Bob forward.\n",
    "\n",
    "You can reference the solutions in the text, but please try the problems on your own first."
   ]
  },
  {
   "cell_type": "markdown",
   "metadata": {
    "is_question": true,
    "problem": "More fun"
   },
   "source": [
    "### Chapter 4.12\n",
    "#### More fun with Turtles!\n",
    "Complete *at least one of* Exercise 2, 3, 4, or 5 in `shapes.py`. If you come up with some cool drawings you'd like to share with the rest of the class, let us know!"
   ]
  }
 ],
 "metadata": {
  "anaconda-cloud": {},
  "kernelspec": {
   "display_name": "Python 3",
   "language": "python",
   "name": "python3"
  },
  "language_info": {
   "codemirror_mode": {
    "name": "ipython",
    "version": 3
   },
   "file_extension": ".py",
   "mimetype": "text/x-python",
   "name": "python",
   "nbconvert_exporter": "python",
   "pygments_lexer": "ipython3",
   "version": "3.7.4"
  }
 },
 "nbformat": 4,
 "nbformat_minor": 1
}
