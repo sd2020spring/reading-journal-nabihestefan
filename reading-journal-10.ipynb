{
 "cells": [
  {
   "cell_type": "markdown",
   "metadata": {},
   "source": [
    "# Day 10 Reading Journal\n",
    "\n",
    "Review _Think Python_, [Chapter 15](http://www.greenteapress.com/thinkpython2/html/thinkpython2016.html), [16](http://www.greenteapress.com/thinkpython2/html/thinkpython2017.html), [17](http://www.greenteapress.com/thinkpython2/html/thinkpython2018.html)"
   ]
  },
  {
   "cell_type": "markdown",
   "metadata": {},
   "source": [
    "### Terminology\n",
    "\n",
    "You should be familiar with the following list of terms and concepts. If any of them are unclear to you, re-read, ask, write a definition in your own words, and try an example if appropriate.\n",
    "\n",
    " - class\n",
    " - object\n",
    " - instance\n",
    " - attribute\n",
    " - method\n",
    " - shallow vs deep copying\n",
    " - pure functions vs modifiers\n",
    " - initializing object instances\n",
    " "
   ]
  },
  {
   "cell_type": "markdown",
   "metadata": {},
   "source": [
    "    I am very clear on all of the terms and concepts in the list"
   ]
  },
  {
   "cell_type": "markdown",
   "metadata": {},
   "source": [
    "### Chapter 17 exercise 2 \n",
    "\n",
    "This exercise is a cautionary tale about one of the most common, and difficult to find, errors in Python. Write a definition for a class named `Kangaroo` with the following methods:\n",
    "\n",
    " 1. An `__init__` method that initializes an attribute named `pouch_contents` to an empty list.\n",
    " 2. A method named `put_in_pouch` that takes an object of any type and adds it to `pouch_contents`.\n",
    " 3. A `__str__` method that returns a string representation of the `Kangaroo` object and the contents of the pouch.\n",
    "\n",
    "Test your code by creating two `Kangaroo` objects, assigning them to variables named `kanga` and `roo`, and then adding `roo` to the contents of `kanga`’s pouch.\n",
    "\n",
    "Download http://thinkpython2.com/code/BadKangaroo.py. It contains a solution to the previous problem with one big, nasty bug. Find and fix the bug.\n",
    "\n",
    "If you get stuck, you can download http://thinkpython2.com/code/GoodKangaroo.py, which explains the problem and demonstrates a solution."
   ]
  },
  {
   "cell_type": "code",
   "execution_count": 1,
   "metadata": {},
   "outputs": [
    {
     "name": "stdout",
     "output_type": "stream",
     "text": [
      "Kanga has pouch contents which are:\n",
      " <__main__.Kangaroo object at 0x7f5134484f90>\n"
     ]
    }
   ],
   "source": [
    "class Kangaroo:\n",
    "    def __init__(self, name=\"\", contents = None):\n",
    "        self.name = name\n",
    "        if contents == None:\n",
    "            contents = []\n",
    "        self.pouchContents = contents\n",
    "    \n",
    "    def putInPouch(self, obj):\n",
    "        self.pouchContents.append(obj)\n",
    "        \n",
    "    def __str__(self):\n",
    "        t = [self.name + ' has pouch contents which are:']\n",
    "        for i in self.pouchContents:\n",
    "            s = \" \" + object.__str__(i)\n",
    "            t.append(s)\n",
    "        return '\\n'.join(t)\n",
    "    \n",
    "kanga = Kangaroo(\"Kanga\")\n",
    "roo = Kangaroo(\"Roo\")\n",
    "kanga.putInPouch(roo)\n",
    "print(kanga)"
   ]
  },
  {
   "cell_type": "markdown",
   "metadata": {
    "is_question": true,
    "problem": "Exercise 15.1"
   },
   "source": [
    "### Exercise\n",
    "\n",
    "We're going to take the first steps toward writing a calendar application. To keep things simple, we'll restrict ourselves to a single day for now. Paste in your `Time` class from the previous reading journal, and improve it with the methods you read about in Chapter 17 (i.e. `__init__`, `__str__`)."
   ]
  },
  {
   "cell_type": "code",
   "execution_count": 27,
   "metadata": {
    "solution": "Exercise 15.1"
   },
   "outputs": [
    {
     "name": "stdout",
     "output_type": "stream",
     "text": [
      "02:00:00\n",
      "00:35:59\n"
     ]
    }
   ],
   "source": [
    "class Time:\n",
    "    def __init__(self, hour = 0, minute = 0, second = 0):\n",
    "        self.hour = hour\n",
    "        self.minute = minute\n",
    "        self.second = second\n",
    "    \n",
    "    def __str__(self):\n",
    "        return \"%.2d:%.2d:%.2d\" % (self.hour, self.minute, self.second)   \n",
    "    \n",
    "    def time_to_int(self):\n",
    "        t = self.hour*60*60 + self.minute*60 + self.second\n",
    "        return t\n",
    "    \n",
    "    def int_to_time(self,seconds):\n",
    "        hour = seconds / (60 * 60)\n",
    "        seconds -= hour * 60 * 60\n",
    "        minute = seconds / 60\n",
    "        seconds -= minute * 60\n",
    "        return Time(hour, minute, seconds)\n",
    "    \n",
    "    def __add__(self, other):\n",
    "        seconds = self.time_to_int() + other.time_to_int()\n",
    "        return self.int_to_time(seconds)\n",
    "    \n",
    "    def difference(self, other):\n",
    "        hour = abs(self.hour - other.hour)\n",
    "        minute = abs(self.minute - other.minute)\n",
    "        second = abs(self.second - other.second)\n",
    "        return Time(hour, minute, second)\n",
    "    \n",
    "    def __gt__(self, other):\n",
    "        return self.time_to_int() > other.time_to_int()\n",
    "    \n",
    "    def __lt__(self, other):\n",
    "        return (self.time_to_int < other.time_to_int)\n",
    "    \n",
    "t1 = Time(1,0,0)\n",
    "t2 = Time(1, 35, 59)\n",
    "print(t1 + t2)\n",
    "print(t1.difference(t2))"
   ]
  },
  {
   "cell_type": "markdown",
   "metadata": {
    "is_question": true,
    "problem": "Exercise 15.2"
   },
   "source": [
    "### Exercise\n",
    "\n",
    "Write an `Event` class with the following attributes:\n",
    "\n",
    " - `name`  : Title for the `Event`\n",
    " - `start` : `Time` object representing the start time for the `Event`\n",
    " - `end`   : `Time` object representing the end time for the `Event`\n",
    "\n",
    "You can also augment your `Event` class with additional attributes, such as location and attendees.\n",
    "\n",
    "Write `__init__` and `__str__` methods for your `Event` class."
   ]
  },
  {
   "cell_type": "markdown",
   "metadata": {
    "is_question": true,
    "problem": "Exercise 15.3"
   },
   "source": [
    "### Exercise\n",
    "\n",
    "Write a `duration` method that returns the duration of the `Event` in minutes. You can paste in your `Event` code from the previous cell and continue to develop it here."
   ]
  },
  {
   "cell_type": "code",
   "execution_count": 32,
   "metadata": {
    "solution": "Exercise 15.3"
   },
   "outputs": [],
   "source": [
    "class Event:\n",
    "    def __init__(self, name = \"\", start = Time(), end = Time(), location = \"\"):\n",
    "        self.name = name\n",
    "        self.start = start\n",
    "        self.end = end\n",
    "        self.location = location\n",
    "        \n",
    "    def __str__(self):\n",
    "        text = self.name + \"\\nStart: {} \\nEnd: {}\\nLocation: \" + self.location\n",
    "        final = text.format(self.start, self.end)\n",
    "        return final\n",
    "    \n",
    "    def duration(self):\n",
    "        return self.start(diference(self.end))\n",
    "    \n",
    "    def __gt__(self, other):\n",
    "        return self.start > other.start\n",
    "    \n",
    "    def __lt__(self, other):\n",
    "        return (self.start < other.start)\n",
    "    \n",
    "party = Event()"
   ]
  },
  {
   "cell_type": "markdown",
   "metadata": {},
   "source": [
    "### Exercise\n",
    "\n",
    "Write an `Agenda` class that contains several `Event`s for the day.\n",
    "\n",
    "**Quick check: ** How should you store `Event`s within your `Agenda` class?\n",
    "\n",
    "Your `Agenda` class should include a `print_agenda` method that prints out your schedule for the day, in chronological order.\n",
    "\n",
    "**Optional:** Include a `need_timeturner` method that returns `True` if your schedule is impossible due to time conflicts. You may want to write additional helper methods for the `Event` class to make this easier."
   ]
  },
  {
   "cell_type": "code",
   "execution_count": 41,
   "metadata": {},
   "outputs": [
    {
     "name": "stdout",
     "output_type": "stream",
     "text": [
      "a\n",
      "Start: 06:00:00 \n",
      "End: 24:00:00\n",
      "Location: MH\n",
      " \n",
      "b\n",
      "Start: 15:00:00 \n",
      "End: 24:00:00\n",
      "Location: EH\n",
      " \n",
      "c\n",
      "Start: 15:59:00 \n",
      "End: 24:00:00\n",
      "Location: DH\n",
      " \n",
      "\n"
     ]
    }
   ],
   "source": [
    "class Agenda:\n",
    "    def __init__(self, *args):\n",
    "        self.events = []\n",
    "        for t in args:\n",
    "            self.events.append(t)\n",
    "    \n",
    "    def __str__(self):\n",
    "        times = self.events\n",
    "        temp = Event(Time(24, 0, 0), Time(24,0,0))\n",
    "        idx = -1\n",
    "        text = ''\n",
    "        l = len(times)\n",
    "        for i in range(l):\n",
    "            temp = Event(Time(24, 0, 0), Time(24,0,0))\n",
    "            for j in times:\n",
    "                if temp > j:\n",
    "                    temp = j\n",
    "            times.remove(temp)\n",
    "            text += temp.__str__() + \"\\n \\n\"\n",
    "        return text\n",
    "        \n",
    "\n",
    "party1 = Event(\"a\", Time(6, 0, 0), Time(24,0,0), \"MH\")\n",
    "party2 = Event(\"b\", Time(15, 0, 0), Time(24,0,0), \"EH\")\n",
    "party3 = Event(\"c\", Time(15, 59, 0), Time(24,0,0), \"DH\")\n",
    "agd = Agenda(party1, party2, party3)\n",
    "\n",
    "print(agd)"
   ]
  },
  {
   "cell_type": "markdown",
   "metadata": {},
   "source": [
    "### Going Beyond (optional, come back to these if you have a lot of time)\n",
    "\n",
    "Some ideas for taking your application further:\n",
    " - Add people and/or places to the mix to create a scheduling assistant\n",
    " - Extend support for day-of-week or full date. A word of warning: dealing with dates and times in real applications is difficult due to the huge number of special cases (e.g. leap year). Consider using something like the Python [datetime](https://docs.python.org/3/library/datetime.html) module.\n",
    " - Use pickle or some other persistence strategy to save and load your `Agenda`."
   ]
  },
  {
   "cell_type": "code",
   "execution_count": null,
   "metadata": {},
   "outputs": [],
   "source": []
  }
 ],
 "metadata": {
  "kernelspec": {
   "display_name": "Python 3",
   "language": "python",
   "name": "python3"
  },
  "language_info": {
   "codemirror_mode": {
    "name": "ipython",
    "version": 3
   },
   "file_extension": ".py",
   "mimetype": "text/x-python",
   "name": "python",
   "nbconvert_exporter": "python",
   "pygments_lexer": "ipython3",
   "version": "3.7.4"
  }
 },
 "nbformat": 4,
 "nbformat_minor": 1
}
