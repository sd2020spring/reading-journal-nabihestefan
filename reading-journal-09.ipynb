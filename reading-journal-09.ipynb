{
 "cells": [
  {
   "cell_type": "markdown",
   "metadata": {},
   "source": [
    "# Day 9 Reading Journal\n",
    "\n",
    "Read _Think Python_, [Chapter 15](http://www.greenteapress.com/thinkpython2/html/thinkpython2016.html), [16](http://www.greenteapress.com/thinkpython2/html/thinkpython2017.html), [17](http://www.greenteapress.com/thinkpython2/html/thinkpython2018.html)"
   ]
  },
  {
   "cell_type": "markdown",
   "metadata": {},
   "source": [
    "## [Chapter 15](http://www.greenteapress.com/thinkpython2/html/thinkpython2016.html) Classes and objects\n",
    "\n",
    "This chapter has very few (and short) exercises, and is more focused on starting to think about classes and objects. If you haven't seen user defined types like classes before, you should read closely and try out some examples on your own. For example, you can write a [Python Tutor example like this one](http://pythontutor.com/visualize.html#code=%23%20Example%20for%20visualizing%20object%20diagrams%20by%20stepping%20through%20the%20code%0A%0Aclass%20Point%28object%29%3A%0A%20%20%20%20%22%22%22Represents%20a%20point%20in%202-D%20space.%22%22%22%0A%20%20%20%20pass%0A%0Aclass%20Rectangle%28object%29%3A%0A%20%20%20%20%22%22%22Represents%20a%20rectangle.%20%0A%0A%20%20%20%20attributes%3A%20width,%20height,%20corner.%0A%20%20%20%20%22%22%22%0A%20%20%20%20pass%0A%0A%0A%23%20Create%20a%20point%20to%20serve%20as%20origin%20for%20our%20rectangles%0Ap%20%3D%20Point%28%29%0Ap.x%20%3D%2010%0Ap.y%20%3D%2015%0A%0A%23%20Create%20two%20rectangles%20with%20different%20size%0Ar1%20%3D%20Rectangle%28%29%0Ar1.corner%20%3D%20p%0Ar1.width%20%3D%20100%0Ar1.height%20%3D%20100%0A%0Ar2%20%3D%20Rectangle%28%29%0Ar2.corner%20%3D%20p%0Ar2.width%20%3D%2050%0Ar2.height%20%3D%20200%0A%0A%23%20Change%20the%20width%20of%20r2%20-%20what%20%28if%20any%29%20is%20the%20effect%20on%20r1%20and%20why%3F%0Ar2.width%20%3D%20150%0Aprint%28r1.width%29%0A%0A%23%20Change%20the%20corner%20position%20of%20r1%20-%20what%20%28if%20any%29%20is%20the%20effect%20on%20r2%20and%20why%3F%0Ar1.corner.x%20%3D%2020%0Aprint%28r2.corner.x%29&cumulative=false&curInstr=0&heapPrimitives=false&mode=display&origin=opt-frontend.js&py=3&rawInputLstJSON=%5B%5D&textReferences=false) to explore object diagrams and aliasing.\n",
    "\n",
    "**Note**: The sequence of operations we use in this chapter to create class instances and assign their attributes, e.g. \n",
    "\n",
    "```python\n",
    "box = Rectangle()\n",
    "box.width = 100.0\n",
    "box.height = 200.0\n",
    "box.corner = Point()\n",
    "box.corner.x = 0.0\n",
    "box.corner.y = 0.0\n",
    "```\n",
    "\n",
    "is somewhat clumsy and error prone. Things will get better in the next couple chapters; feel free to look ahead if you'd like a sneak preview.\n"
   ]
  },
  {
   "cell_type": "markdown",
   "metadata": {},
   "source": [
    "**Quick check:** In about one sentence using your own words, what is a class?"
   ]
  },
  {
   "cell_type": "markdown",
   "metadata": {},
   "source": [
    "    A class is a place in the memory where you can store variables and objects that are related"
   ]
  },
  {
   "cell_type": "markdown",
   "metadata": {
    "is_question": true,
    "problem": "Exercise 15.1"
   },
   "source": [
    "### Chapter 15.2  \n",
    "\n",
    "Write a function called `distance_between_points` that takes two `Points` as arguments and returns the distance between them."
   ]
  },
  {
   "cell_type": "code",
   "execution_count": 5,
   "metadata": {
    "solution": "Exercise 15.1"
   },
   "outputs": [
    {
     "name": "stdout",
     "output_type": "stream",
     "text": [
      "Finding tests in NoName\n",
      "Trying:\n",
      "    distanceBetweenPoints(Point(3, 4), Point(3, 6))\n",
      "Expecting:\n",
      "    2.0\n",
      "ok\n",
      "Trying:\n",
      "    distanceBetweenPoints(Point(0,0), Point(3,4))\n",
      "Expecting:\n",
      "    5.0\n",
      "ok\n"
     ]
    }
   ],
   "source": [
    "import math\n",
    "import doctest\n",
    "class Point:\n",
    "    def __init__(self, x = 0, y = 0):\n",
    "        self.x = x\n",
    "        self.y = y\n",
    "\n",
    "class Rectangle:\n",
    "    def __init__(self, width = 0, height = 0, corner = Point()):\n",
    "        self.width = width\n",
    "        self.height = height\n",
    "        self.corner = corner\n",
    "        \n",
    "def distanceBetweenPoints(one, two):\n",
    "    \"\"\"\n",
    "    >>> distanceBetweenPoints(Point(3, 4), Point(3, 6))\n",
    "    2.0\n",
    "    \n",
    "    >>> distanceBetweenPoints(Point(0,0), Point(3,4))\n",
    "    5.0\n",
    "    \"\"\"\n",
    "    return math.sqrt((one.x - two.x)**2 + (one.y - two.y)**2)\n",
    "\n",
    "doctest.run_docstring_examples(distanceBetweenPoints, globals(), verbose=True)"
   ]
  },
  {
   "cell_type": "markdown",
   "metadata": {
    "is_question": true,
    "problem": "Exercise 15.2"
   },
   "source": [
    "### Chapter 15.5\n",
    "\n",
    "Write a function named `move_rectangle` that takes a `Rectangle` and two numbers named `dx` and `dy`. It should change the location of the rectangle by adding `dx` to the `x` coordinate of `corner` and adding `dy` to the `y` coordinate of `corner`."
   ]
  },
  {
   "cell_type": "code",
   "execution_count": 11,
   "metadata": {
    "solution": "Exercise 15.2"
   },
   "outputs": [
    {
     "name": "stdout",
     "output_type": "stream",
     "text": [
      "1 1\n",
      "3 4\n"
     ]
    }
   ],
   "source": [
    "def moveRectangle(rect, dx, dy):\n",
    "    rect.corner.x += dx\n",
    "    rect.corner.y += dy\n",
    "    \n",
    "rect = Rectangle(2,3,Point(1,1))\n",
    "print(rect.corner.x, rect.corner.y)\n",
    "moveRectangle(rect, 2,3)\n",
    "print(rect.corner.x, rect.corner.y)"
   ]
  },
  {
   "cell_type": "markdown",
   "metadata": {
    "is_question": true,
    "problem": "Exercise 15.3"
   },
   "source": [
    "### Chapter 15.6\n",
    "\n",
    "Write a version of `move_rectangle` that creates and returns a new `Rectangle` instead of modifying the old one."
   ]
  },
  {
   "cell_type": "code",
   "execution_count": 15,
   "metadata": {
    "solution": "Exercise 15.3"
   },
   "outputs": [
    {
     "name": "stdout",
     "output_type": "stream",
     "text": [
      "1 1\n",
      "3 4\n"
     ]
    }
   ],
   "source": [
    "def newMoveRectangle(rect, dx, dy):\n",
    "    return Rectangle(rect.width, rect.height, Point(dx + rect.corner.x, dy + rect.corner.y))\n",
    "\n",
    "rect = Rectangle(2,3,Point(1,1))\n",
    "print(rect.corner.x, rect.corner.y)\n",
    "newRect = newMoveRectangle(rect, 2,3)\n",
    "print(newRect.corner.x, newRect.corner.y)"
   ]
  },
  {
   "cell_type": "markdown",
   "metadata": {},
   "source": [
    "## [Chapter 16](http://www.greenteapress.com/thinkpython2/html/thinkpython2017.html) Classes and functions\n",
    "\n",
    "Note: If you're confused about string formatting operations (e.g. `%.2d`) in the reading, you can check out [Think Python 14.3](http://greenteapress.com/thinkpython2/html/thinkpython2015.html#sec167) or the [PyFormat cheat sheet](https://pyformat.info/).\n"
   ]
  },
  {
   "cell_type": "markdown",
   "metadata": {},
   "source": [
    "### Chapter 16.1  \n",
    "\n",
    "Write a boolean function called `is_after` that takes two `Time` objects, `t1` and `t2`, and returns `True` if `t1` follows `t2` chronologically and `False` otherwise. Challenge: don’t use an `if` statement. "
   ]
  },
  {
   "cell_type": "code",
   "execution_count": 21,
   "metadata": {},
   "outputs": [
    {
     "name": "stdout",
     "output_type": "stream",
     "text": [
      "Finding tests in NoName\n",
      "Trying:\n",
      "    isAfter(Time(11,59,59), Time(12,0,0))\n",
      "Expecting:\n",
      "    True\n",
      "ok\n"
     ]
    }
   ],
   "source": [
    "class Time:\n",
    "    def __init__(self, hour = 0, minute = 0, second = 0):\n",
    "        self.hour = hour\n",
    "        self.minute = minute\n",
    "        self.second = second\n",
    "\n",
    "def isAfter(t1, t2):\n",
    "    \"\"\"\n",
    "    >>> isAfter(Time(11,59,59), Time(12,0,0))\n",
    "    True\n",
    "    \"\"\"\n",
    "    t1t = t1.hour*60*60 + t1.minute*60 + t1.second\n",
    "    t2t = t2.hour*60*60 + t2.minute*60 + t2.second\n",
    "    return t2t > t1t\n",
    "\n",
    "doctest.run_docstring_examples(isAfter, globals(), verbose=True)"
   ]
  },
  {
   "cell_type": "markdown",
   "metadata": {},
   "source": [
    "## Exercise 1  \n",
    "Write a function called `mul_time` that takes a `Time` object and a number and returns a new `Time` object that contains the product of the original `Time` and the number.\n",
    "\n",
    "Then use `mul_time` to write a function that takes a `Time` object that represents the finishing time in a race, and a number that represents the distance, and returns a `Time` object that represents the average pace (time per mile)."
   ]
  },
  {
   "cell_type": "code",
   "execution_count": 28,
   "metadata": {},
   "outputs": [
    {
     "name": "stdout",
     "output_type": "stream",
     "text": [
      "10\n",
      "1.0\n"
     ]
    }
   ],
   "source": [
    "def mulTime(t1, num):\n",
    "    t1.second *= num\n",
    "    if t1.second >= 60:\n",
    "        t1.minute += t1.second / 60\n",
    "        t1.second %= 60\n",
    "        \n",
    "    t1.minute *= num\n",
    "    if t1.minute >= 60:\n",
    "        t1.hour += t1.minute / 60\n",
    "        t1.minute %= 60\n",
    "        \n",
    "    t1.hour *= num\n",
    "    \n",
    "def finishing(t1, dist):\n",
    "    mulTime(t1, (1/dist))\n",
    "    \n",
    "    \n",
    "t1 = Time(10,0,0)\n",
    "print(t1.hour)\n",
    "finishing(t1, 10)\n",
    "print(t1.hour)"
   ]
  },
  {
   "cell_type": "markdown",
   "metadata": {},
   "source": [
    "**Quick check:** Is `mul_time` a pure function or a modifier?"
   ]
  },
  {
   "cell_type": "markdown",
   "metadata": {},
   "source": [
    "    Modifier"
   ]
  },
  {
   "cell_type": "markdown",
   "metadata": {},
   "source": [
    "## [Chapter 17](http://www.greenteapress.com/thinkpython2/html/thinkpython2018.html) Classes and methods\n",
    "\n",
    "In chapter 17 we finally have the tools to really put user-defined classes to work! In the exercises for this reading journal, we'll go back and add methods to your `Point` class from Chapter 15 to make it a lot easier to use."
   ]
  },
  {
   "cell_type": "markdown",
   "metadata": {},
   "source": [
    "### Chapter 17.5 \n",
    "\n",
    "Write an init method for the `Point` class that takes `x` and `y` as optional parameters and assigns them to the corresponding attributes. "
   ]
  },
  {
   "cell_type": "code",
   "execution_count": null,
   "metadata": {
    "collapsed": true
   },
   "outputs": [],
   "source": [
    "class Point:\n",
    "    def __init__(self, x = 0, y = 0):\n",
    "        self.x = x\n",
    "        self.y = y"
   ]
  },
  {
   "cell_type": "markdown",
   "metadata": {},
   "source": [
    "### Chapter 17.6\n",
    "\n",
    "Write a str method for the `Point` class. Create a `Point` object and print it."
   ]
  },
  {
   "cell_type": "code",
   "execution_count": 32,
   "metadata": {},
   "outputs": [
    {
     "name": "stdout",
     "output_type": "stream",
     "text": [
      "11, 15\n"
     ]
    }
   ],
   "source": [
    "class Point:\n",
    "    def __init__(self, x = 0, y = 0):\n",
    "        self.x = x\n",
    "        self.y = y\n",
    "    \n",
    "    def __str__(self):\n",
    "        return('%.2d, %.2d' %(self.x, self.y))\n",
    "print(Point(11,15))"
   ]
  },
  {
   "cell_type": "markdown",
   "metadata": {},
   "source": [
    "### Chapter 17.7  \n",
    "\n",
    "Write an add method for the `Point` class. Optional: implement operator overloading so that you can use the '+' operator."
   ]
  },
  {
   "cell_type": "code",
   "execution_count": 37,
   "metadata": {},
   "outputs": [
    {
     "name": "stdout",
     "output_type": "stream",
     "text": [
      "01, 01\n",
      "02, 03\n",
      "03, 04\n"
     ]
    }
   ],
   "source": [
    "class Point:\n",
    "    def __init__(self, x = 0, y = 0):\n",
    "        self.x = x\n",
    "        self.y = y\n",
    "    \n",
    "    def __str__(self):\n",
    "        return('%.2d, %.2d' %(self.x, self.y))\n",
    "\n",
    "    def __add__(self, other):\n",
    "        x = self.x + other.x\n",
    "        y = self.y + other.y\n",
    "        return Point(x,y)\n",
    "        \n",
    "p1 = Point(1,1)\n",
    "p2 = Point(2,3)\n",
    "p3 = p1 + p2\n",
    "print(p1)\n",
    "print(p2)\n",
    "print(p3)"
   ]
  },
  {
   "cell_type": "markdown",
   "metadata": {},
   "source": [
    "**Quick check:** Does the `distance_between_points` function you wrote in Chapter 15 work with your new and improved `Point` class? Why or why not?"
   ]
  },
  {
   "cell_type": "markdown",
   "metadata": {},
   "source": [
    "    It still works because the methods and parts used in it have not been modified "
   ]
  }
 ],
 "metadata": {
  "kernelspec": {
   "display_name": "Python 3",
   "language": "python",
   "name": "python3"
  },
  "language_info": {
   "codemirror_mode": {
    "name": "ipython",
    "version": 3
   },
   "file_extension": ".py",
   "mimetype": "text/x-python",
   "name": "python",
   "nbconvert_exporter": "python",
   "pygments_lexer": "ipython3",
   "version": "3.7.4"
  }
 },
 "nbformat": 4,
 "nbformat_minor": 1
}
